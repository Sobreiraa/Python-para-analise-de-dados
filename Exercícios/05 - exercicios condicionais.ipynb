{
 "cells": [
  {
   "cell_type": "markdown",
   "id": "2285d689",
   "metadata": {},
   "source": [
    "# Exercícios \n",
    "\n",
    "## Dicionários"
   ]
  },
  {
   "cell_type": "markdown",
   "id": "4a1e2934",
   "metadata": {},
   "source": [
    "#### 1. Verifique se um número é positivo, negativo ou zero"
   ]
  },
  {
   "cell_type": "code",
   "execution_count": 1,
   "id": "53b0a730",
   "metadata": {},
   "outputs": [
    {
     "name": "stdout",
     "output_type": "stream",
     "text": [
      "Número é negativo.\n"
     ]
    }
   ],
   "source": [
    "numero = -1\n",
    "\n",
    "if numero == 0:\n",
    "  print('Número é zero.')\n",
    "elif numero > 0:\n",
    "  print('Número é positivo.')\n",
    "else:\n",
    "  print('Número é negativo.')"
   ]
  },
  {
   "cell_type": "markdown",
   "id": "24697560",
   "metadata": {},
   "source": [
    "#### 2. Verifique se uma pessoa pode votar com base na idade"
   ]
  },
  {
   "cell_type": "code",
   "execution_count": 3,
   "id": "213d5c63",
   "metadata": {},
   "outputs": [
    {
     "name": "stdout",
     "output_type": "stream",
     "text": [
      "Parabéns, você pode votar por ter o título de eleitor e ter 16 anos.\n"
     ]
    }
   ],
   "source": [
    "idade = 16\n",
    "titulo = True\n",
    "\n",
    "if idade >= 18:\n",
    "  print('Parabéns, pode votar.')\n",
    "elif idade >= 16 and titulo:\n",
    "  print('Parabéns, você pode votar por ter o título de eleitor e ter 16 anos.')\n",
    "else:\n",
    "  print('Infelizmente não pode votar.')"
   ]
  },
  {
   "cell_type": "markdown",
   "id": "f50198a5",
   "metadata": {},
   "source": [
    "#### 3. Determine se um número é par ou ímpar"
   ]
  },
  {
   "cell_type": "code",
   "execution_count": 4,
   "id": "91a4ca53",
   "metadata": {},
   "outputs": [
    {
     "name": "stdout",
     "output_type": "stream",
     "text": [
      "Esse número é PAR.\n"
     ]
    }
   ],
   "source": [
    "numero = 192\n",
    "\n",
    "if numero % 2 == 0:\n",
    "  print('Esse número é PAR.')\n",
    "else:\n",
    "  print('Esse número é ÍMPAR.')"
   ]
  },
  {
   "cell_type": "markdown",
   "id": "0030d3b2",
   "metadata": {},
   "source": [
    "#### 4. Verifique se uma palavra específica está presente em uma frase"
   ]
  },
  {
   "cell_type": "code",
   "execution_count": 6,
   "id": "b86c61fe",
   "metadata": {},
   "outputs": [
    {
     "name": "stdout",
     "output_type": "stream",
     "text": [
      "Não encontramos a letra desejada.\n"
     ]
    }
   ],
   "source": [
    "string = 'Estou estudando Python'\n",
    "\n",
    "if 'z' in string:\n",
    "  print(f\"A frase '{string}' tem a letra Y.\")\n",
    "else:\n",
    "  print('Não encontramos a letra desejada.')"
   ]
  },
  {
   "cell_type": "markdown",
   "id": "bdd1974a",
   "metadata": {},
   "source": [
    "#### 05. Compare dois números e exiba o maio"
   ]
  },
  {
   "cell_type": "code",
   "execution_count": 7,
   "id": "2b218ccf",
   "metadata": {},
   "outputs": [
    {
     "name": "stdout",
     "output_type": "stream",
     "text": [
      "Os números são iguais.\n"
     ]
    }
   ],
   "source": [
    "num1 = 8\n",
    "num2 = 8\n",
    "\n",
    "if num1 > num2:\n",
    "  print(f'O maior número entre os dois citados é {num1}.')\n",
    "elif num1 < num2:\n",
    "  print(f'O maior número entre os dois citados é {num2}.')\n",
    "else:\n",
    "  print('Os números são iguais.')"
   ]
  },
  {
   "cell_type": "markdown",
   "id": "54a0c2d9",
   "metadata": {},
   "source": [
    "#### 6. Verifique se um número está entre 10 e 20"
   ]
  },
  {
   "cell_type": "code",
   "execution_count": 8,
   "id": "af7ce9a1",
   "metadata": {},
   "outputs": [
    {
     "name": "stdout",
     "output_type": "stream",
     "text": [
      "O número está entre 10 e 20.\n"
     ]
    }
   ],
   "source": [
    "numero = 20\n",
    "\n",
    "if numero > 9 and numero < 21:\n",
    "  print('O número está entre 10 e 20.')\n",
    "else:\n",
    "  print('O número está fora de 10 e 20.')"
   ]
  },
  {
   "cell_type": "markdown",
   "id": "40dac4fc",
   "metadata": {},
   "source": [
    "#### 7. Verifique se um ano é bissexto"
   ]
  },
  {
   "cell_type": "code",
   "execution_count": 9,
   "id": "2fa64f10",
   "metadata": {},
   "outputs": [
    {
     "name": "stdout",
     "output_type": "stream",
     "text": [
      "Ano bissexto.\n"
     ]
    }
   ],
   "source": [
    "ano = 2024\n",
    "\n",
    "if (ano % 4 == 0 and ano % 100 != 0) or (ano % 400 == 0):\n",
    "  print('Ano bissexto.')\n",
    "else:\n",
    "  print('Ano não é bissexto.')"
   ]
  },
  {
   "cell_type": "markdown",
   "id": "672aee86",
   "metadata": {},
   "source": [
    "#### 8. Determine a classificação de um aluno com base na nota"
   ]
  },
  {
   "cell_type": "code",
   "execution_count": 10,
   "id": "24d31952",
   "metadata": {},
   "outputs": [
    {
     "name": "stdout",
     "output_type": "stream",
     "text": [
      "Aprovado!\n"
     ]
    }
   ],
   "source": [
    "nota1 = 60\n",
    "nota2 = 70\n",
    "nota3 = 75\n",
    "nota4 = 60\n",
    "\n",
    "media = (nota1 + nota2 + nota3 + nota4) / 4\n",
    "\n",
    "if media >= 60:\n",
    "  print('Aprovado!')\n",
    "else:\n",
    "  print('Reprovado!')"
   ]
  },
  {
   "cell_type": "markdown",
   "id": "8ce3f4f7",
   "metadata": {},
   "source": [
    "#### 9. Determine se um número é divisível por 3 e 5"
   ]
  },
  {
   "cell_type": "code",
   "execution_count": 12,
   "id": "15a13dfc",
   "metadata": {},
   "outputs": [
    {
     "name": "stdout",
     "output_type": "stream",
     "text": [
      "O número 15 é divísivel por 3 e 5.\n"
     ]
    }
   ],
   "source": [
    "numero = 15\n",
    "\n",
    "if numero % 3 == 0 and numero % 5 == 0:\n",
    "  print(f'O número {numero} é divísivel por 3 e 5.')\n",
    "else:\n",
    "  print(f'O número {numero} não é divísivel por 3 e 5.')"
   ]
  },
  {
   "cell_type": "markdown",
   "id": "8578c485",
   "metadata": {},
   "source": [
    "### 10. Use um if aninhado para verificar se um número é positivo e maior que 100"
   ]
  },
  {
   "cell_type": "code",
   "execution_count": 13,
   "id": "6ef0b441",
   "metadata": {},
   "outputs": [
    {
     "name": "stdout",
     "output_type": "stream",
     "text": [
      "O número é negativo.\n"
     ]
    }
   ],
   "source": [
    "numero = -6\n",
    "\n",
    "if numero > 0:\n",
    "  if numero > 100:\n",
    "    print('O número é positivo e maior que 100.')\n",
    "  else:\n",
    "    print('O número é positivo mas NÃO é maior que 100.')\n",
    "else:\n",
    "  print('O número é negativo.')"
   ]
  }
 ],
 "metadata": {
  "kernelspec": {
   "display_name": "Python 3 (ipykernel)",
   "language": "python",
   "name": "python3"
  },
  "language_info": {
   "codemirror_mode": {
    "name": "ipython",
    "version": 3
   },
   "file_extension": ".py",
   "mimetype": "text/x-python",
   "name": "python",
   "nbconvert_exporter": "python",
   "pygments_lexer": "ipython3",
   "version": "3.9.13"
  }
 },
 "nbformat": 4,
 "nbformat_minor": 5
}
