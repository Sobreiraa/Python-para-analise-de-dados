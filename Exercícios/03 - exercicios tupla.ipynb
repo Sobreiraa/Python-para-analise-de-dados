{
 "cells": [
  {
   "cell_type": "markdown",
   "id": "0d91f925",
   "metadata": {},
   "source": [
    "# Exercícios \n",
    "\n",
    "## Tuplas"
   ]
  },
  {
   "cell_type": "markdown",
   "id": "2d74d82b",
   "metadata": {},
   "source": [
    "#### 1. Crie uma tupla com 4 elementos e exiba-os um a um"
   ]
  },
  {
   "cell_type": "code",
   "execution_count": 4,
   "id": "d4339aa4",
   "metadata": {},
   "outputs": [
    {
     "name": "stdout",
     "output_type": "stream",
     "text": [
      "1\n",
      "2\n",
      "3\n",
      "4\n"
     ]
    }
   ],
   "source": [
    "tupla = (1, 2, 3, 4)\n",
    "for n in tupla:\n",
    "    print(n)"
   ]
  },
  {
   "cell_type": "markdown",
   "id": "f84446b7",
   "metadata": {},
   "source": [
    "#### 2. Acesse o terceiro elemento de uma tupla"
   ]
  },
  {
   "cell_type": "code",
   "execution_count": 6,
   "id": "b41749e4",
   "metadata": {},
   "outputs": [
    {
     "name": "stdout",
     "output_type": "stream",
     "text": [
      "(1, 2, 3, 4)\n",
      "O terceiro elemento da tupla é 3.\n"
     ]
    }
   ],
   "source": [
    "print(tupla)\n",
    "print(f'O terceiro elemento da tupla é {tupla[2]}.')"
   ]
  },
  {
   "cell_type": "markdown",
   "id": "b11f38e3",
   "metadata": {},
   "source": [
    "#### 3. Crie uma tupla dentro de outra e acesse um elemento da tupla interna"
   ]
  },
  {
   "cell_type": "code",
   "execution_count": 8,
   "id": "aa000788",
   "metadata": {},
   "outputs": [
    {
     "name": "stdout",
     "output_type": "stream",
     "text": [
      "Acessando um elemento da tupla: 5.\n"
     ]
    }
   ],
   "source": [
    "tupla_aninhada = ((1, 2, 3), (2, 6, 8,), (5, 9, 12))\n",
    "\n",
    "print(F'Acessando um elemento da tupla: {tupla_aninhada[2][0]}.')"
   ]
  },
  {
   "cell_type": "markdown",
   "id": "e80f507f",
   "metadata": {},
   "source": [
    "#### 4. Converta uma lista em uma tupla"
   ]
  },
  {
   "cell_type": "code",
   "execution_count": 10,
   "id": "b9e77223",
   "metadata": {},
   "outputs": [
    {
     "name": "stdout",
     "output_type": "stream",
     "text": [
      "<class 'tuple'>\n",
      "(1, 2, 3, 4, 5)\n"
     ]
    }
   ],
   "source": [
    "lista = [1, 2, 3, 4, 5]\n",
    "tupla = tuple(lista)\n",
    "\n",
    "print(type(tupla))\n",
    "print(tupla)"
   ]
  },
  {
   "cell_type": "markdown",
   "id": "e2b321cc",
   "metadata": {},
   "source": [
    "#### 5. Descubra quantas vezes um valor específico aparece em uma tupla"
   ]
  },
  {
   "cell_type": "code",
   "execution_count": 12,
   "id": "89b86806",
   "metadata": {},
   "outputs": [
    {
     "name": "stdout",
     "output_type": "stream",
     "text": [
      "O número 10 apareceu 4 vezes na tupla.\n"
     ]
    }
   ],
   "source": [
    "tupla = (10, 1, 2, 3, 4, 5, 6, 7, 8, 9, 10, 10, 9, 8, 7, 6, 5, 4, 3, 2, 1, 10)\n",
    "\n",
    "print(F'O número 10 apareceu {tupla.count(10)} vezes na tupla.')"
   ]
  },
  {
   "cell_type": "markdown",
   "id": "622033fe",
   "metadata": {},
   "source": [
    "#### 6. Descubra o índice de um elemento específico em uma tupla"
   ]
  },
  {
   "cell_type": "code",
   "execution_count": 18,
   "id": "dc5b9b9b",
   "metadata": {},
   "outputs": [
    {
     "name": "stdout",
     "output_type": "stream",
     "text": [
      "\n",
      "O índice do número 9 é 5.\n"
     ]
    }
   ],
   "source": [
    "tupla = (6, 8, 5, 6, 1, 9, 2, 0, 1, 5, 7, 3)\n",
    "print()\n",
    "print(F'O índice do número 9 é {tupla.index(9)}.')"
   ]
  },
  {
   "cell_type": "markdown",
   "id": "3e7ab091",
   "metadata": {},
   "source": [
    "#### 7. Junte duas tuplas em uma só"
   ]
  },
  {
   "cell_type": "code",
   "execution_count": 2,
   "id": "9cac86fe",
   "metadata": {},
   "outputs": [
    {
     "name": "stdout",
     "output_type": "stream",
     "text": [
      "(1, 2, 3, 4, 5, 6, 7, 8, 9)\n"
     ]
    }
   ],
   "source": [
    "tupla1 = (1, 2, 3, 4, 5, 6, 7)\n",
    "tupla2 = (8, 9)\n",
    "\n",
    "unir_tuplas = tupla1 + tupla2\n",
    "\n",
    "print(unir_tuplas)"
   ]
  },
  {
   "cell_type": "markdown",
   "id": "5bfa7a10",
   "metadata": {},
   "source": [
    "#### 8. Crie uma tupla com um único elemento e exiba seu tipo"
   ]
  },
  {
   "cell_type": "code",
   "execution_count": 6,
   "id": "bfc2abf1",
   "metadata": {},
   "outputs": [
    {
     "name": "stdout",
     "output_type": "stream",
     "text": [
      "<class 'int'>\n",
      "<class 'float'>\n",
      "<class 'str'>\n"
     ]
    }
   ],
   "source": [
    "tupla1 = (1,)\n",
    "tupla2 = (1.5,)\n",
    "tupla3 = ('Matheus',)\n",
    "\n",
    "print(type(tupla1[0]))\n",
    "print(type(tupla2[0]))\n",
    "print(type(tupla3[0]))"
   ]
  },
  {
   "cell_type": "markdown",
   "id": "0828697f",
   "metadata": {},
   "source": [
    "#### 9. Desempacote os elementos de uma tupla em variáveis separadas"
   ]
  },
  {
   "cell_type": "code",
   "execution_count": 13,
   "id": "4511cd1a",
   "metadata": {},
   "outputs": [
    {
     "name": "stdout",
     "output_type": "stream",
     "text": [
      "1\n",
      "2\n",
      "3\n",
      "[4, 5, 6, 7, 8, 9]\n"
     ]
    }
   ],
   "source": [
    "tupla = (1, 2, 3, 4, 5, 6, 7, 8, 9)\n",
    "\n",
    "num1, num2, num3, *restante = tupla\n",
    "\n",
    "print(num1)\n",
    "print(num2)\n",
    "print(num3)\n",
    "print(restante)"
   ]
  },
  {
   "cell_type": "markdown",
   "id": "926fbe6f",
   "metadata": {},
   "source": [
    "#### 10. Inverta a ordem dos elementos de uma tupla"
   ]
  },
  {
   "cell_type": "code",
   "execution_count": 17,
   "id": "3c114251",
   "metadata": {},
   "outputs": [
    {
     "name": "stdout",
     "output_type": "stream",
     "text": [
      "(9, 8, 7, 6, 5, 4, 3, 2, 1)\n"
     ]
    }
   ],
   "source": [
    "tupla = (1, 2, 3, 4, 5, 6, 7, 8, 9)\n",
    "\n",
    "tupla_invertida = tupla[:: -1]\n",
    "\n",
    "print(tupla_invertida)"
   ]
  }
 ],
 "metadata": {
  "kernelspec": {
   "display_name": "Python 3 (ipykernel)",
   "language": "python",
   "name": "python3"
  },
  "language_info": {
   "codemirror_mode": {
    "name": "ipython",
    "version": 3
   },
   "file_extension": ".py",
   "mimetype": "text/x-python",
   "name": "python",
   "nbconvert_exporter": "python",
   "pygments_lexer": "ipython3",
   "version": "3.9.13"
  }
 },
 "nbformat": 4,
 "nbformat_minor": 5
}
