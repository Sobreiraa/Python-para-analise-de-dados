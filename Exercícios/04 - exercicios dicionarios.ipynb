{
 "cells": [
  {
   "cell_type": "markdown",
   "id": "b0118d18",
   "metadata": {},
   "source": [
    "# Exercícios \n",
    "\n",
    "## Dicionários"
   ]
  },
  {
   "cell_type": "markdown",
   "id": "646326dd",
   "metadata": {},
   "source": [
    "#### 1. Crie um dicionário com 3 pares chave-valor e exiba todos os valores"
   ]
  },
  {
   "cell_type": "code",
   "execution_count": 1,
   "id": "984bddfc",
   "metadata": {},
   "outputs": [
    {
     "name": "stdout",
     "output_type": "stream",
     "text": [
      "Me chamo Matheus e tenho 22 anos.\n",
      "Me chamo Gabriela e tenho 19 anos.\n",
      "Me chamo Lucas e tenho 26 anos.\n"
     ]
    }
   ],
   "source": [
    "dicionario = {'Matheus': 22, 'Gabriela': 19, 'Lucas': 26}\n",
    "\n",
    "for k, v in dicionario.items():\n",
    "  print(F'Me chamo {k} e tenho {v} anos.')"
   ]
  },
  {
   "cell_type": "markdown",
   "id": "f1d97a17",
   "metadata": {},
   "source": [
    "#### 2. Adicione um novo par chave-valor a um dicionário"
   ]
  },
  {
   "cell_type": "code",
   "execution_count": 2,
   "id": "f01278c7",
   "metadata": {},
   "outputs": [
    {
     "name": "stdout",
     "output_type": "stream",
     "text": [
      "{'Matheus': 22, 'Gabriela': 19, 'Lucas': 26, 'Taty': 21}\n"
     ]
    }
   ],
   "source": [
    "dicionario['Taty'] = 21\n",
    "\n",
    "print(dicionario)"
   ]
  },
  {
   "cell_type": "markdown",
   "id": "4b184259",
   "metadata": {},
   "source": [
    "#### 3. Remova um elemento de um dicionário usando sua chave"
   ]
  },
  {
   "cell_type": "code",
   "execution_count": 3,
   "id": "733fbd08",
   "metadata": {},
   "outputs": [
    {
     "name": "stdout",
     "output_type": "stream",
     "text": [
      "{'Matheus': 22, 'Gabriela': 19, 'Taty': 21}\n"
     ]
    }
   ],
   "source": [
    "del dicionario['Lucas']\n",
    "\n",
    "print(dicionario)"
   ]
  },
  {
   "cell_type": "markdown",
   "id": "505ef3d8",
   "metadata": {},
   "source": [
    "#### 4. Verifique se uma chave existe em um dicionário"
   ]
  },
  {
   "cell_type": "code",
   "execution_count": 5,
   "id": "d090c0a4",
   "metadata": {},
   "outputs": [
    {
     "name": "stdout",
     "output_type": "stream",
     "text": [
      "Encontramos a chave desejada no dicionário.\n",
      "{'Matheus': 22, 'Gabriela': 19, 'Taty': 21}\n"
     ]
    }
   ],
   "source": [
    "if 'Matheus' in dicionario:\n",
    "  print('Encontramos a chave desejada no dicionário.')\n",
    "  print(dicionario)\n",
    "else:\n",
    "  print('Pesquisa não encontrada.')"
   ]
  },
  {
   "cell_type": "markdown",
   "id": "11f35b8b",
   "metadata": {},
   "source": [
    "#### 5. Itere sobre as chaves e os valores de um dicionário"
   ]
  },
  {
   "cell_type": "code",
   "execution_count": 7,
   "id": "a6d55f55",
   "metadata": {},
   "outputs": [
    {
     "name": "stdout",
     "output_type": "stream",
     "text": [
      "Nome: Matheus | Idade: 22 anos.\n",
      "Nome: Gabriela | Idade: 19 anos.\n",
      "Nome: Taty | Idade: 21 anos.\n"
     ]
    }
   ],
   "source": [
    "for k, v in dicionario.items():\n",
    "  print(f'Nome: {k} | Idade: {v} anos.')"
   ]
  },
  {
   "cell_type": "markdown",
   "id": "21d50a65",
   "metadata": {},
   "source": [
    "#### 6. Atualize o valor de uma chave específica em um dicionário"
   ]
  },
  {
   "cell_type": "code",
   "execution_count": 9,
   "id": "2fe2ac48",
   "metadata": {},
   "outputs": [
    {
     "name": "stdout",
     "output_type": "stream",
     "text": [
      "{'Matheus': 'alterado', 'Gabriela': 19, 'Taty': 21}\n"
     ]
    }
   ],
   "source": [
    "dicionario['Matheus'] = 'alterado'\n",
    "\n",
    "print(dicionario)"
   ]
  },
  {
   "cell_type": "markdown",
   "id": "c1d823e5",
   "metadata": {},
   "source": [
    "#### 7. Combine dois dicionários em um só"
   ]
  },
  {
   "cell_type": "code",
   "execution_count": 12,
   "id": "ec9819db",
   "metadata": {},
   "outputs": [
    {
     "name": "stdout",
     "output_type": "stream",
     "text": [
      "{'Matheus': 'alterado', 'Gabriela': 19, 'Taty': 21, 'Pedro': 22, 'Joaquim': 16, 'Larissa': 19, 'Lara': 36}\n"
     ]
    }
   ],
   "source": [
    "dicionario2 = {'Pedro': 22, 'Joaquim': 16, 'Larissa': 19, 'Lara': 36}\n",
    "\n",
    "dicionario_novo = dicionario | dicionario2\n",
    "\n",
    "print(dicionario_novo)\n",
    "\n",
    "# | é uma forma de mesclar dois dicionários. Ele cria um novo dicionário que combina as chaves e valores de ambos os dicionários envolvidos. Se houver chaves duplicadas, os valores do segundo dicionário prevalecem (sobrescrevem os do primeiro)."
   ]
  },
  {
   "cell_type": "markdown",
   "id": "eed9dc67",
   "metadata": {},
   "source": [
    "#### 8. Converta um dicionário em uma lista de tuplas (chave, valor)"
   ]
  },
  {
   "cell_type": "code",
   "execution_count": 15,
   "id": "3be0f27b",
   "metadata": {},
   "outputs": [
    {
     "name": "stdout",
     "output_type": "stream",
     "text": [
      "('Matheus', 'alterado', 'Gabriela', 19, 'Taty', 21, 'Pedro', 22, 'Joaquim', 16, 'Larissa', 19, 'Lara', 36)\n"
     ]
    }
   ],
   "source": [
    "dicionario2 = {'Pedro': 22, 'Joaquim': 16, 'Larissa': 19, 'Lara': 36}\n",
    "nomes = []\n",
    "\n",
    "for k, v in dicionario_novo.items():\n",
    "    nomes.append(k)\n",
    "    nomes.append(v)\n",
    "    \n",
    "nomes_tupla = tuple(nomes)\n",
    "\n",
    "print(nomes_tupla)\n",
    "    "
   ]
  },
  {
   "cell_type": "markdown",
   "id": "27a69194",
   "metadata": {},
   "source": [
    "#### 9.  Crie um dicionário com os valores sendo números inteiros e informe o maior valor"
   ]
  },
  {
   "cell_type": "code",
   "execution_count": 26,
   "id": "f3f01aa4",
   "metadata": {},
   "outputs": [
    {
     "name": "stdout",
     "output_type": "stream",
     "text": [
      "O maior valor da lista de dicionários é 62.\n"
     ]
    }
   ],
   "source": [
    "dicionario2 = {'Pedro': 22, 'Joaquim': 52, 'Larissa': 62, 'Lara': 36}\n",
    "maior_valor = 0\n",
    "\n",
    "for v in dicionario2.values():\n",
    "    if v > maior_valor:\n",
    "        maior_valor = v\n",
    "    \n",
    "print(f'O maior valor da lista de dicionários é {maior_valor}.')"
   ]
  },
  {
   "cell_type": "markdown",
   "id": "32e69470",
   "metadata": {},
   "source": [
    "#### 10. Verifique o número de itens em um dicionário"
   ]
  },
  {
   "cell_type": "code",
   "execution_count": 27,
   "id": "c64ea415",
   "metadata": {},
   "outputs": [
    {
     "name": "stdout",
     "output_type": "stream",
     "text": [
      "4\n"
     ]
    }
   ],
   "source": [
    "dicionario2 = {'Pedro': 22, 'Joaquim': 52, 'Larissa': 62, 'Lara': 36}\n",
    "\n",
    "numero_itens = len(dicionario2)\n",
    "\n",
    "print(numero_itens)"
   ]
  }
 ],
 "metadata": {
  "kernelspec": {
   "display_name": "Python 3 (ipykernel)",
   "language": "python",
   "name": "python3"
  },
  "language_info": {
   "codemirror_mode": {
    "name": "ipython",
    "version": 3
   },
   "file_extension": ".py",
   "mimetype": "text/x-python",
   "name": "python",
   "nbconvert_exporter": "python",
   "pygments_lexer": "ipython3",
   "version": "3.9.13"
  }
 },
 "nbformat": 4,
 "nbformat_minor": 5
}
