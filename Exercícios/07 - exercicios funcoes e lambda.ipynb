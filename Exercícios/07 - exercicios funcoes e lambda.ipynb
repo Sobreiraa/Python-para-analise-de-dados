{
 "cells": [
  {
   "cell_type": "markdown",
   "id": "17887013",
   "metadata": {},
   "source": [
    "# Exercícios \n",
    "\n",
    "## Funções e Lambda"
   ]
  },
  {
   "cell_type": "markdown",
   "id": "6e064571",
   "metadata": {},
   "source": [
    "### Funções"
   ]
  },
  {
   "cell_type": "markdown",
   "id": "aab1cee5",
   "metadata": {},
   "source": [
    "##### 1. Crie uma função que retorna o dobro de um número"
   ]
  },
  {
   "cell_type": "code",
   "execution_count": 1,
   "id": "975821da",
   "metadata": {},
   "outputs": [
    {
     "name": "stdout",
     "output_type": "stream",
     "text": [
      "O dobro de 6 é 12\n",
      "O dobro de 12 é 24\n",
      "O dobro de -5 é -10\n"
     ]
    }
   ],
   "source": [
    "def dobro(num):\n",
    "    dobro = num * 2\n",
    "    print(f\"O dobro de {num} é {dobro}\")\n",
    "    \n",
    "dobro(6)\n",
    "dobro(12)"
   ]
  },
  {
   "cell_type": "markdown",
   "id": "2bc17ff4",
   "metadata": {},
   "source": [
    "#### 2. Crie uma função que retorna a soma de uma lista de números"
   ]
  },
  {
   "cell_type": "code",
   "execution_count": 1,
   "id": "afc25513",
   "metadata": {},
   "outputs": [
    {
     "name": "stdout",
     "output_type": "stream",
     "text": [
      "A soma dos números da lista informada é: 25\n"
     ]
    }
   ],
   "source": [
    "def soma_lista(lista):\n",
    "    soma = 0\n",
    "    for n in lista:\n",
    "        soma += n\n",
    "    print(F'A soma dos números da lista informada é: {soma}')\n",
    "\n",
    "soma_lista([5, 2, 6, 8, 2, 2])"
   ]
  },
  {
   "cell_type": "markdown",
   "id": "4e56900d",
   "metadata": {},
   "source": [
    "#### 3. Escreva uma função que verifica se um número é par ou ímpar"
   ]
  },
  {
   "cell_type": "code",
   "execution_count": 2,
   "id": "bc1ef17c",
   "metadata": {},
   "outputs": [
    {
     "name": "stdout",
     "output_type": "stream",
     "text": [
      "PAR\n",
      "PAR\n",
      "ÍMPAR\n",
      "ÍMPAR\n"
     ]
    }
   ],
   "source": [
    "def numero(num):\n",
    "    if num % 2 == 0:\n",
    "        print('PAR')\n",
    "    else:\n",
    "        print('ÍMPAR')\n",
    "\n",
    "numero(6)\n",
    "numero(2)\n",
    "numero(5)\n",
    "numero(3)"
   ]
  },
  {
   "cell_type": "markdown",
   "id": "5b87c5a2",
   "metadata": {},
   "source": [
    "#### 4. Crie uma função que retorna o maior de dois números"
   ]
  },
  {
   "cell_type": "code",
   "execution_count": 5,
   "id": "72efc9a8",
   "metadata": {},
   "outputs": [
    {
     "name": "stdout",
     "output_type": "stream",
     "text": [
      "Números iguais.\n",
      "Número 8 é maior.\n",
      "Número 9 é maior.\n"
     ]
    }
   ],
   "source": [
    "def maior(num1, num2):\n",
    "    if num1 > num2:\n",
    "        print(F'Número {num1} é maior.')\n",
    "    elif num1 < num2:\n",
    "        print(F'Número {num2} é maior.')\n",
    "    else:\n",
    "        print('Números iguais.')\n",
    "\n",
    "maior(6, 6)\n",
    "maior(7, 8)\n",
    "maior(9, 6)"
   ]
  },
  {
   "cell_type": "markdown",
   "id": "cdd2f6dd",
   "metadata": {},
   "source": [
    "#### 5.  Escreva uma função que retorna os números pares de uma lista"
   ]
  },
  {
   "cell_type": "code",
   "execution_count": 6,
   "id": "ddbd3f5f",
   "metadata": {},
   "outputs": [
    {
     "name": "stdout",
     "output_type": "stream",
     "text": [
      "Os números pares da lista são '[2, 4, 6, 8, 10]'\n",
      "Os números pares da lista são '[6, 8, 12, 26]'\n"
     ]
    }
   ],
   "source": [
    "def pares_lista(lista):\n",
    "    pares = []\n",
    "    for n in lista:\n",
    "        if n % 2 == 0:\n",
    "            pares.append(n)\n",
    "    print(f\"Os números pares da lista são '{pares}'\")\n",
    "    \n",
    "pares_lista([1, 2, 3, 4, 5, 6, 7, 8, 9, 10])\n",
    "pares_lista([5, 6, 8, 12, 65, 41, 21, 41, 26, 85, 47])"
   ]
  },
  {
   "cell_type": "markdown",
   "id": "15c2a0de",
   "metadata": {},
   "source": [
    "#### 6. Escreva uma função que recebe uma string e retorna a string invertida"
   ]
  },
  {
   "cell_type": "code",
   "execution_count": 24,
   "id": "36c1bc58",
   "metadata": {},
   "outputs": [
    {
     "name": "stdout",
     "output_type": "stream",
     "text": [
      "arierboS suehtaM\n",
      ".nohtyP odnadutse uotsE\n"
     ]
    }
   ],
   "source": [
    "def string_invertida(string):\n",
    "    return string[::-1]\n",
    "\n",
    "print(string_invertida('Matheus Sobreira'))\n",
    "print(string_invertida('Estou estudando Python.'))"
   ]
  },
  {
   "cell_type": "markdown",
   "id": "b6ec00c2",
   "metadata": {},
   "source": [
    "#### 7. Crie uma função que conta o número de vogais em uma string"
   ]
  },
  {
   "cell_type": "code",
   "execution_count": 27,
   "id": "10393893",
   "metadata": {},
   "outputs": [
    {
     "name": "stdout",
     "output_type": "stream",
     "text": [
      "Existem 10 vogais na string passada na função.\n",
      "Existem 3 vogais na string passada na função.\n",
      "Existem 1 vogais na string passada na função.\n"
     ]
    }
   ],
   "source": [
    "def contador_vogais(texto):\n",
    "    texto = texto.lower() \n",
    "    contador = 0\n",
    "    for letra in texto:\n",
    "        if letra in ['a', 'e', 'i', 'o', 'u']:\n",
    "            contador += 1 \n",
    "    print(f'Existem {contador} vogais na string passada na função.')\n",
    "\n",
    "contador_vogais('Eu estou estudando Python')\n",
    "contador_vogais('Matheus')\n",
    "contador_vogais('Python')"
   ]
  },
  {
   "cell_type": "markdown",
   "id": "7510af96",
   "metadata": {},
   "source": [
    "### Lambda"
   ]
  },
  {
   "cell_type": "markdown",
   "id": "242992c9",
   "metadata": {},
   "source": [
    "#### 8. Crie uma lambda que soma dois número"
   ]
  },
  {
   "cell_type": "code",
   "execution_count": 23,
   "id": "ec7adda7",
   "metadata": {},
   "outputs": [
    {
     "name": "stdout",
     "output_type": "stream",
     "text": [
      "10\n",
      "18\n",
      "5\n",
      "31\n"
     ]
    }
   ],
   "source": [
    "soma = lambda num1, num2: num1 + num2\n",
    "\n",
    "print(soma(6, 4))\n",
    "print(soma(6, 12))\n",
    "print(soma(1, 4))\n",
    "print(soma(19, 12))"
   ]
  },
  {
   "cell_type": "markdown",
   "id": "629f7023",
   "metadata": {},
   "source": [
    "#### 9. Crie uma lambda que verifica se um número é positivo"
   ]
  },
  {
   "cell_type": "code",
   "execution_count": 18,
   "id": "8b2fea3e",
   "metadata": {},
   "outputs": [
    {
     "name": "stdout",
     "output_type": "stream",
     "text": [
      "True\n",
      "False\n",
      "False\n"
     ]
    }
   ],
   "source": [
    "numero = lambda num: num > 0\n",
    "\n",
    "print(numero(6))\n",
    "print(numero(-1))\n",
    "print(numero(0))"
   ]
  },
  {
   "cell_type": "markdown",
   "id": "0e6a9982",
   "metadata": {},
   "source": [
    "#### 10. Crie uma lambda que retorna o maior número de duas entradas"
   ]
  },
  {
   "cell_type": "code",
   "execution_count": 22,
   "id": "b841115b",
   "metadata": {},
   "outputs": [
    {
     "name": "stdout",
     "output_type": "stream",
     "text": [
      "8\n",
      "10\n"
     ]
    }
   ],
   "source": [
    "maior_numero = lambda num1, num2: num1 if num1 > num2 else num2\n",
    "\n",
    "print(maior_numero(6, 8))\n",
    "print(maior_numero(9, 10))"
   ]
  }
 ],
 "metadata": {
  "kernelspec": {
   "display_name": "Python 3 (ipykernel)",
   "language": "python",
   "name": "python3"
  },
  "language_info": {
   "codemirror_mode": {
    "name": "ipython",
    "version": 3
   },
   "file_extension": ".py",
   "mimetype": "text/x-python",
   "name": "python",
   "nbconvert_exporter": "python",
   "pygments_lexer": "ipython3",
   "version": "3.9.13"
  }
 },
 "nbformat": 4,
 "nbformat_minor": 5
}
