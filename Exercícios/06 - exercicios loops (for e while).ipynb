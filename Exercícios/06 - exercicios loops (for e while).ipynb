{
 "cells": [
  {
   "cell_type": "markdown",
   "id": "3f89e37b",
   "metadata": {},
   "source": [
    "# Exercícios\n",
    "\n",
    "## Loops"
   ]
  },
  {
   "cell_type": "markdown",
   "id": "a266bc1c",
   "metadata": {},
   "source": [
    "### For"
   ]
  },
  {
   "cell_type": "markdown",
   "id": "ace1acce",
   "metadata": {},
   "source": [
    "#### 1. Exiba todos os números de 1 a 10"
   ]
  },
  {
   "cell_type": "code",
   "execution_count": 1,
   "id": "c91782c7",
   "metadata": {},
   "outputs": [
    {
     "name": "stdout",
     "output_type": "stream",
     "text": [
      "1\n",
      "2\n",
      "3\n",
      "4\n",
      "5\n",
      "6\n",
      "7\n",
      "8\n",
      "9\n",
      "10\n"
     ]
    }
   ],
   "source": [
    "for n in range(1,11):\n",
    "  print(n)"
   ]
  },
  {
   "cell_type": "markdown",
   "id": "c198af6f",
   "metadata": {},
   "source": [
    "#### 2. Itere por uma lista de nomes e exiba cada nome"
   ]
  },
  {
   "cell_type": "code",
   "execution_count": 2,
   "id": "942568bd",
   "metadata": {},
   "outputs": [
    {
     "name": "stdout",
     "output_type": "stream",
     "text": [
      "Ana\n",
      "Bruno\n",
      "Carla\n",
      "Daniel\n",
      "Eduarda\n",
      "Felipe\n",
      "Gabriela\n",
      "Henrique\n",
      "Isabela\n",
      "João\n"
     ]
    }
   ],
   "source": [
    "lista = [\"Ana\", \"Bruno\", \"Carla\", \"Daniel\", \"Eduarda\", \"Felipe\", \"Gabriela\", \"Henrique\", \"Isabela\", \"João\"]\n",
    "\n",
    "for nome in lista:\n",
    "  print(nome)"
   ]
  },
  {
   "cell_type": "markdown",
   "id": "d3244082",
   "metadata": {},
   "source": [
    "#### 3. Calcule a soma de todos os números de uma lista"
   ]
  },
  {
   "cell_type": "code",
   "execution_count": 3,
   "id": "f4458b05",
   "metadata": {},
   "outputs": [
    {
     "name": "stdout",
     "output_type": "stream",
     "text": [
      "A soma dos números da lista é 96\n"
     ]
    }
   ],
   "source": [
    "numeros = [20, 1, 5, 1, 18, 10, 9, 13, 4, 15]\n",
    "soma = 0\n",
    "\n",
    "for num in numeros:\n",
    "  soma += num\n",
    "\n",
    "print(f'A soma dos números da lista é {soma}')"
   ]
  },
  {
   "cell_type": "markdown",
   "id": "330199d5",
   "metadata": {},
   "source": [
    "#### 4. Encontre o maior número em uma lista usando for"
   ]
  },
  {
   "cell_type": "code",
   "execution_count": 5,
   "id": "4170c0f7",
   "metadata": {},
   "outputs": [
    {
     "name": "stdout",
     "output_type": "stream",
     "text": [
      "O maior número é: 70.\n"
     ]
    }
   ],
   "source": [
    "numeros = [20, 1, 5, 1, 18, 70, 9, 13, 4, 35]\n",
    "maior_numero = 0\n",
    "\n",
    "for num in numeros:\n",
    "  if num > maior_numero:\n",
    "    maior_numero = num\n",
    "\n",
    "print(f'O maior número é: {maior_numero}.')"
   ]
  },
  {
   "cell_type": "markdown",
   "id": "05eed237",
   "metadata": {},
   "source": [
    "#### 5. Conte quantos elementos em uma lista são maiores que 10"
   ]
  },
  {
   "cell_type": "code",
   "execution_count": 6,
   "id": "89c08dad",
   "metadata": {},
   "outputs": [
    {
     "name": "stdout",
     "output_type": "stream",
     "text": [
      "Na lista '[20, 1, 5, 1, 18, 10, 9, 13, 4, 35]' existem '4' números maiores que 10.\n"
     ]
    }
   ],
   "source": [
    "numeros = [20, 1, 5, 1, 18, 10, 9, 13, 4, 35]\n",
    "contador = 0\n",
    "\n",
    "for num in numeros:\n",
    "  if num > 10:\n",
    "    contador += 1\n",
    "\n",
    "print(F\"Na lista '{numeros}' existem '{contador}' números maiores que 10.\")"
   ]
  },
  {
   "cell_type": "markdown",
   "id": "3ea4c906",
   "metadata": {},
   "source": [
    "#### 6. Inverta uma string usando um laço for"
   ]
  },
  {
   "cell_type": "code",
   "execution_count": 7,
   "id": "3af150e6",
   "metadata": {},
   "outputs": [
    {
     "name": "stdout",
     "output_type": "stream",
     "text": [
      "!nohtyP odnednerpa uotsE\n"
     ]
    }
   ],
   "source": [
    "string = 'Estou aprendendo Python!'\n",
    "nova_string = ''\n",
    "\n",
    "for letras in string:\n",
    "  nova_string = letras + nova_string\n",
    "\n",
    "print(nova_string)"
   ]
  },
  {
   "cell_type": "markdown",
   "id": "cd8fcfd6",
   "metadata": {},
   "source": [
    "#### 7. Exiba a tabuada do número 7"
   ]
  },
  {
   "cell_type": "code",
   "execution_count": 8,
   "id": "88f5085d",
   "metadata": {},
   "outputs": [
    {
     "name": "stdout",
     "output_type": "stream",
     "text": [
      "--------- Tabuada do número 7 ---------\n",
      "7 x 0 = 0\n",
      "7 x 1 = 7\n",
      "7 x 2 = 14\n",
      "7 x 3 = 21\n",
      "7 x 4 = 28\n",
      "7 x 5 = 35\n",
      "7 x 6 = 42\n",
      "7 x 7 = 49\n",
      "7 x 8 = 56\n",
      "7 x 9 = 63\n",
      "7 x 10 = 70\n"
     ]
    }
   ],
   "source": [
    "print('---' * 3, 'Tabuada do número 7', '---' * 3)\n",
    "for num in range(0, 11):\n",
    "  print(f'7 x {num} = {7*num}')"
   ]
  },
  {
   "cell_type": "markdown",
   "id": "f091172f",
   "metadata": {},
   "source": [
    "#### 8. Encontre todos os números pares em uma lista"
   ]
  },
  {
   "cell_type": "code",
   "execution_count": 9,
   "id": "c6b8c969",
   "metadata": {},
   "outputs": [
    {
     "name": "stdout",
     "output_type": "stream",
     "text": [
      "Os números pares são '[20, 18, 10, 4]'\n"
     ]
    }
   ],
   "source": [
    "lista = [20, 1, 5, 1, 18, 10, 9, 13, 4, 35]\n",
    "lista_pares = []\n",
    "\n",
    "for num in lista:\n",
    "  if num % 2 == 0:\n",
    "    lista_pares.append(num)\n",
    "\n",
    "print(F\"Os números pares são '{lista_pares}'\")"
   ]
  },
  {
   "cell_type": "markdown",
   "id": "2d88fc9a",
   "metadata": {},
   "source": [
    "### While"
   ]
  },
  {
   "cell_type": "markdown",
   "id": "2abd2886",
   "metadata": {},
   "source": [
    "#### 9. Exiba números de 1 a 5 usando while"
   ]
  },
  {
   "cell_type": "code",
   "execution_count": 10,
   "id": "7fce1575",
   "metadata": {},
   "outputs": [
    {
     "name": "stdout",
     "output_type": "stream",
     "text": [
      "1\n",
      "2\n",
      "3\n",
      "4\n",
      "5\n"
     ]
    }
   ],
   "source": [
    "numeros = 1\n",
    "while numeros <= 5:\n",
    "  print(numeros)\n",
    "  numeros += 1"
   ]
  },
  {
   "cell_type": "markdown",
   "id": "96be92e7",
   "metadata": {},
   "source": [
    "#### 10. Calcule a soma de números digitados pelo usuário até ele digitar 0"
   ]
  },
  {
   "cell_type": "code",
   "execution_count": 15,
   "id": "f6c20450",
   "metadata": {},
   "outputs": [
    {
     "name": "stdout",
     "output_type": "stream",
     "text": [
      "Digite um número para adicionarmos na soma: 0\n",
      "Resultado: 0\n"
     ]
    }
   ],
   "source": [
    "while True:\n",
    "  soma = 0\n",
    "  numero = int(input('Digite um número para adicionarmos na soma: '))\n",
    "  if numero == 0:\n",
    "    print(f'Resultado: {soma}')\n",
    "    break\n",
    "  else:\n",
    "    soma += numero\n",
    "    print('Somando..')"
   ]
  },
  {
   "cell_type": "markdown",
   "id": "dad50690",
   "metadata": {},
   "source": [
    "#### 11. Gere números pares menores que 20 usando while"
   ]
  },
  {
   "cell_type": "code",
   "execution_count": 16,
   "id": "d39e5716",
   "metadata": {},
   "outputs": [
    {
     "name": "stdout",
     "output_type": "stream",
     "text": [
      "0\n",
      "2\n",
      "4\n",
      "6\n",
      "8\n",
      "10\n",
      "12\n",
      "14\n",
      "16\n",
      "18\n"
     ]
    }
   ],
   "source": [
    "contador = 0\n",
    "\n",
    "while contador < 20:\n",
    "  if contador % 2 == 0:\n",
    "    print(contador)\n",
    "  contador += 1"
   ]
  },
  {
   "cell_type": "markdown",
   "id": "e54af4f2",
   "metadata": {},
   "source": [
    "#### 12. Incremente um número até ele atingir 100"
   ]
  },
  {
   "cell_type": "code",
   "execution_count": 17,
   "id": "07e1a7f2",
   "metadata": {},
   "outputs": [
    {
     "name": "stdout",
     "output_type": "stream",
     "text": [
      "1\n",
      "2\n",
      "3\n",
      "4\n",
      "5\n",
      "6\n",
      "7\n",
      "8\n",
      "9\n",
      "10\n",
      "11\n",
      "12\n",
      "13\n",
      "14\n",
      "15\n",
      "16\n",
      "17\n",
      "18\n",
      "19\n",
      "20\n",
      "21\n",
      "22\n",
      "23\n",
      "24\n",
      "25\n",
      "26\n",
      "27\n",
      "28\n",
      "29\n",
      "30\n",
      "31\n",
      "32\n",
      "33\n",
      "34\n",
      "35\n",
      "36\n",
      "37\n",
      "38\n",
      "39\n",
      "40\n",
      "41\n",
      "42\n",
      "43\n",
      "44\n",
      "45\n",
      "46\n",
      "47\n",
      "48\n",
      "49\n",
      "50\n",
      "51\n",
      "52\n",
      "53\n",
      "54\n",
      "55\n",
      "56\n",
      "57\n",
      "58\n",
      "59\n",
      "60\n",
      "61\n",
      "62\n",
      "63\n",
      "64\n",
      "65\n",
      "66\n",
      "67\n",
      "68\n",
      "69\n",
      "70\n",
      "71\n",
      "72\n",
      "73\n",
      "74\n",
      "75\n",
      "76\n",
      "77\n",
      "78\n",
      "79\n",
      "80\n",
      "81\n",
      "82\n",
      "83\n",
      "84\n",
      "85\n",
      "86\n",
      "87\n",
      "88\n",
      "89\n",
      "90\n",
      "91\n",
      "92\n",
      "93\n",
      "94\n",
      "95\n",
      "96\n",
      "97\n",
      "98\n",
      "99\n",
      "100\n"
     ]
    }
   ],
   "source": [
    "numero = 0\n",
    "\n",
    "while not numero == 100:\n",
    "  numero += 1\n",
    "  print(numero)"
   ]
  },
  {
   "cell_type": "markdown",
   "id": "ddf1ba7b",
   "metadata": {},
   "source": [
    "#### 13. Recrie a tabuada de um número usando while"
   ]
  },
  {
   "cell_type": "code",
   "execution_count": 18,
   "id": "a406bd03",
   "metadata": {},
   "outputs": [
    {
     "name": "stdout",
     "output_type": "stream",
     "text": [
      "--------- Tabuada do 7 ---------\n",
      "7 x 0 = 0\n",
      "7 x 1 = 7\n",
      "7 x 2 = 14\n",
      "7 x 3 = 21\n",
      "7 x 4 = 28\n",
      "7 x 5 = 35\n",
      "7 x 6 = 42\n",
      "7 x 7 = 49\n",
      "7 x 8 = 56\n",
      "7 x 9 = 63\n",
      "7 x 10 = 70\n"
     ]
    }
   ],
   "source": [
    "tabuada = 0\n",
    "\n",
    "print('---' * 3, 'Tabuada do 7', '---' * 3)\n",
    "while tabuada < 11:\n",
    "  print(f'7 x {tabuada} = {7*tabuada}')\n",
    "  tabuada += 1"
   ]
  },
  {
   "cell_type": "markdown",
   "id": "cffbf91f",
   "metadata": {},
   "source": [
    "#### 14. Crie uma contagem regressiva de 10 a 1"
   ]
  },
  {
   "cell_type": "code",
   "execution_count": 19,
   "id": "4a179ced",
   "metadata": {},
   "outputs": [
    {
     "name": "stdout",
     "output_type": "stream",
     "text": [
      "10\n",
      "9\n",
      "8\n",
      "7\n",
      "6\n",
      "5\n",
      "4\n",
      "3\n",
      "2\n",
      "1\n"
     ]
    }
   ],
   "source": [
    "contagem = 10\n",
    "\n",
    "while contagem < 11 and contagem >= 1:\n",
    "  print(contagem)\n",
    "  contagem -= 1"
   ]
  },
  {
   "cell_type": "markdown",
   "id": "23b51979",
   "metadata": {},
   "source": [
    "#### 15. Simule um jogo de adivinhação onde o usuário tenta acertar um número"
   ]
  },
  {
   "cell_type": "code",
   "execution_count": 20,
   "id": "af96ab27",
   "metadata": {},
   "outputs": [
    {
     "name": "stdout",
     "output_type": "stream",
     "text": [
      "Qual é o número surpresa? 6\n",
      "Errou...Tente novamente.\n",
      "Qual é o número surpresa? 5\n",
      "Errou...Tente novamente.\n",
      "Qual é o número surpresa? 4\n",
      "Errou...Tente novamente.\n",
      "Qual é o número surpresa? 1\n",
      "Errou...Tente novamente.\n",
      "Qual é o número surpresa? 2\n",
      "Errou...Tente novamente.\n",
      "Qual é o número surpresa? 1\n",
      "Errou...Tente novamente.\n",
      "Qual é o número surpresa? 0\n",
      "Errou...Tente novamente.\n",
      "Qual é o número surpresa? 16\n",
      "Parabens, você acertou...\n"
     ]
    }
   ],
   "source": [
    "numero_supresa = 16\n",
    "\n",
    "advinhar = int(input('Qual é o número surpresa? '))\n",
    "if advinhar == numero_supresa:\n",
    "  print('Parabéns, você acertou de primeira.')\n",
    "else:\n",
    "  while advinhar != 16:\n",
    "    print('Errou...Tente novamente.')\n",
    "    advinhar = int(input('Qual é o número surpresa? '))\n",
    "    if advinhar == numero_supresa:\n",
    "      print('Parabens, você acertou.')"
   ]
  }
 ],
 "metadata": {
  "kernelspec": {
   "display_name": "Python 3 (ipykernel)",
   "language": "python",
   "name": "python3"
  },
  "language_info": {
   "codemirror_mode": {
    "name": "ipython",
    "version": 3
   },
   "file_extension": ".py",
   "mimetype": "text/x-python",
   "name": "python",
   "nbconvert_exporter": "python",
   "pygments_lexer": "ipython3",
   "version": "3.9.13"
  }
 },
 "nbformat": 4,
 "nbformat_minor": 5
}
