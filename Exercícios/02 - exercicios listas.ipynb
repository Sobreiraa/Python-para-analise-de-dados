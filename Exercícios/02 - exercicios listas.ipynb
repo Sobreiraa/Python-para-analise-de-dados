{
 "cells": [
  {
   "cell_type": "markdown",
   "id": "274f6920",
   "metadata": {},
   "source": [
    "# Exercícios \n",
    "\n",
    "## Listas"
   ]
  },
  {
   "cell_type": "code",
   "execution_count": 2,
   "id": "80373618",
   "metadata": {},
   "outputs": [
    {
     "name": "stdout",
     "output_type": "stream",
     "text": [
      "O primeiro número da lista de números é 1 e o último é 5.\n"
     ]
    }
   ],
   "source": [
    "#### 1. Crie uma lista de 5 números e exiba o primeiro e o último elemento\n",
    "lista = [1, 2, 3, 4, 5]\n",
    "print(f'O primeiro número da lista de números é {lista[0]} e o último é {lista[4]}.')"
   ]
  },
  {
   "cell_type": "markdown",
   "id": "3eafbff7",
   "metadata": {},
   "source": [
    "#### 2. Adicione um elemento ao final de uma lista"
   ]
  },
  {
   "cell_type": "code",
   "execution_count": 3,
   "id": "b33a0ef1",
   "metadata": {},
   "outputs": [
    {
     "name": "stdout",
     "output_type": "stream",
     "text": [
      "Lista atualziada: [1, 2, 3, 4, 5, 6]\n"
     ]
    }
   ],
   "source": [
    "lista.append(6)\n",
    "print(f'Lista atualziada: {lista}')"
   ]
  },
  {
   "cell_type": "markdown",
   "id": "35308c74",
   "metadata": {},
   "source": [
    "#### 3. Remova o terceiro elemento de uma lista"
   ]
  },
  {
   "cell_type": "code",
   "execution_count": 4,
   "id": "12727944",
   "metadata": {},
   "outputs": [
    {
     "name": "stdout",
     "output_type": "stream",
     "text": [
      "Lista atualziada: [1, 2, 4, 5, 6]\n"
     ]
    }
   ],
   "source": [
    "del(lista[2])\n",
    "print(f'Lista atualziada: {lista}')"
   ]
  },
  {
   "cell_type": "markdown",
   "id": "ccab0f58",
   "metadata": {},
   "source": [
    "#### 4. Ordene uma lista em ordem crescente e depois em ordem decrescente"
   ]
  },
  {
   "cell_type": "code",
   "execution_count": 10,
   "id": "aa1fa3a6",
   "metadata": {},
   "outputs": [
    {
     "name": "stdout",
     "output_type": "stream",
     "text": [
      "Lista em ordem crescente: [-1, 0, 0, 1, 1, 1, 2, 2, 4, 5, 6, 6, 8, 8, 9, 9, 11, 15, 22]\n",
      "--------------------------------------------------------------------------------------------\n",
      "Lista em ordem decrescente: [22, 15, 11, 9, 9, 8, 8, 6, 6, 5, 4, 2, 2, 1, 1, 1, 0, 0, -1]\n"
     ]
    }
   ],
   "source": [
    "lista = [5, 6, 8, 4, 2, 1, 9, 1, 2, 0, -1, 6, 9, 8, 15, 22, 11, 1, 0]\n",
    "\n",
    "lista.sort()  \n",
    "lista_crescente = lista  \n",
    "\n",
    "lista_decrescente = lista[::-1]  \n",
    "\n",
    "print(f'Lista em ordem crescente: {lista_crescente}')\n",
    "print('----' * 23)\n",
    "print(f'Lista em ordem decrescente: {lista_decrescente}')"
   ]
  },
  {
   "cell_type": "markdown",
   "id": "c2329732",
   "metadata": {},
   "source": [
    "#### 5.  Inverta a ordem dos elementos de uma lista"
   ]
  },
  {
   "cell_type": "code",
   "execution_count": 11,
   "id": "21e62fc5",
   "metadata": {},
   "outputs": [
    {
     "name": "stdout",
     "output_type": "stream",
     "text": [
      "[2, 4, 8, 6, 5]\n"
     ]
    }
   ],
   "source": [
    "lista = [5, 6, 8, 4, 2]\n",
    "lista_invertida = lista[::-1]  \n",
    "print(lista_invertida) "
   ]
  },
  {
   "cell_type": "markdown",
   "id": "4d42739a",
   "metadata": {},
   "source": [
    "#### 6. Verifique se um elemento específico está presente em uma lista"
   ]
  },
  {
   "cell_type": "code",
   "execution_count": 12,
   "id": "c72ede22",
   "metadata": {},
   "outputs": [
    {
     "name": "stdout",
     "output_type": "stream",
     "text": [
      "O número 10 está na lista? False\n"
     ]
    }
   ],
   "source": [
    "lista = [5, 6, 8, 4, 2, 1, 9, 1, 2, 0, -1, 6, 9, 8, 15, 22, 11, 1, 0]\n",
    "\n",
    "numero_na_lista = 10 in lista \n",
    "print(F'O número 10 está na lista? {numero_na_lista}')"
   ]
  },
  {
   "cell_type": "markdown",
   "id": "3b8a3b23",
   "metadata": {},
   "source": [
    "#### 7.  Substitua o segundo elemento de uma lista por outro valor"
   ]
  },
  {
   "cell_type": "code",
   "execution_count": 13,
   "id": "136003e7",
   "metadata": {},
   "outputs": [
    {
     "name": "stdout",
     "output_type": "stream",
     "text": [
      "[5, 1000, 8, 4, 2, 1, 9, 1, 2, 0, -1, 6, 9, 8, 15, 22, 11, 1, 0]\n"
     ]
    }
   ],
   "source": [
    "lista[1] = 1000\n",
    "print(lista)"
   ]
  },
  {
   "cell_type": "markdown",
   "id": "692bd0db",
   "metadata": {},
   "source": [
    "#### 8. Crie uma lista com números de 1 a 10 usando um loop \n"
   ]
  },
  {
   "cell_type": "code",
   "execution_count": 14,
   "id": "f0e23e4e",
   "metadata": {},
   "outputs": [
    {
     "name": "stdout",
     "output_type": "stream",
     "text": [
      "[1, 2, 3, 4, 5, 6, 7, 8, 9, 10]\n"
     ]
    }
   ],
   "source": [
    "lista = []\n",
    "for num in range(1, 11):\n",
    "    lista.append(num)\n",
    "    \n",
    "print(lista)"
   ]
  },
  {
   "cell_type": "markdown",
   "id": "582c0126",
   "metadata": {},
   "source": [
    "#### 9. Combine duas listas em uma só"
   ]
  },
  {
   "cell_type": "code",
   "execution_count": 15,
   "id": "cad813a0",
   "metadata": {},
   "outputs": [
    {
     "name": "stdout",
     "output_type": "stream",
     "text": [
      "[1, 2, 3, 4, 5, 6, 7, 8, 9, 10]\n"
     ]
    }
   ],
   "source": [
    "lista1 = [1, 2, 3, 4, 5]\n",
    "lista2 = [6, 7, 8, 9, 10]\n",
    "\n",
    "listas = lista1 + lista2\n",
    "print(listas)"
   ]
  },
  {
   "cell_type": "markdown",
   "id": "b15c4b24",
   "metadata": {},
   "source": [
    "#### 10. Encontre o maior e o menor valor de uma lista"
   ]
  },
  {
   "cell_type": "code",
   "execution_count": 20,
   "id": "8321eae6",
   "metadata": {},
   "outputs": [
    {
     "name": "stdout",
     "output_type": "stream",
     "text": [
      "O maior número da lista é 1000.\n",
      "Já o menor número da lista é -1.\n"
     ]
    }
   ],
   "source": [
    "lista = [5, 1000, 8, 4, 2, 1, 9, 1, 2, 0, -1, 6, 9, 8, 15, 22, 11, 1, 0]\n",
    "\n",
    "print(f'O maior número da lista é {max(lista)}.')\n",
    "print(f'Já o menor número da lista é {min(lista)}.')"
   ]
  }
 ],
 "metadata": {
  "kernelspec": {
   "display_name": "Python 3 (ipykernel)",
   "language": "python",
   "name": "python3"
  },
  "language_info": {
   "codemirror_mode": {
    "name": "ipython",
    "version": 3
   },
   "file_extension": ".py",
   "mimetype": "text/x-python",
   "name": "python",
   "nbconvert_exporter": "python",
   "pygments_lexer": "ipython3",
   "version": "3.9.13"
  }
 },
 "nbformat": 4,
 "nbformat_minor": 5
}
