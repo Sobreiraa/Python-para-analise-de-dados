{
 "cells": [
  {
   "cell_type": "markdown",
   "id": "8190b6a9",
   "metadata": {},
   "source": [
    "### Tratamento de arquivos, Módulos, Pacotes e Funções Built-in\n",
    "\n",
    "## Manipulação de Arquivos pt 2"
   ]
  },
  {
   "cell_type": "markdown",
   "id": "9cedf74f",
   "metadata": {},
   "source": [
    "### Manipulando Arquivos TXT"
   ]
  },
  {
   "cell_type": "code",
   "execution_count": 35,
   "id": "b06f33a2",
   "metadata": {},
   "outputs": [],
   "source": [
    "texto = \"Cientista de Dados pode ser uma excelente alternativa de carreira.\\n\"\n",
    "texto = texto + \"Esses profissionais precisam saber como programar em Python.\\n\"\n",
    "texto += \"E, claro, devem ser proficientes em Data Science.\""
   ]
  },
  {
   "cell_type": "code",
   "execution_count": 36,
   "id": "ad4e2215",
   "metadata": {},
   "outputs": [
    {
     "name": "stdout",
     "output_type": "stream",
     "text": [
      "Cientista de Dados pode ser uma excelente alternativa de carreira.\n",
      "Esses profissionais precisam saber como programar em Python.\n",
      "E, claro, devem ser proficientes em Data Science.\n"
     ]
    }
   ],
   "source": [
    "print(texto)"
   ]
  },
  {
   "cell_type": "code",
   "execution_count": 37,
   "id": "215ad56e",
   "metadata": {},
   "outputs": [],
   "source": [
    "# Importando o módulo os\n",
    "import os"
   ]
  },
  {
   "cell_type": "code",
   "execution_count": 38,
   "id": "9e469e13",
   "metadata": {},
   "outputs": [],
   "source": [
    "# Criando um arquivo\n",
    "arquivo = open(os.path.join(r'C:\\Users\\Estudos\\Desktop\\DATA ENGINEER\\01 - Python\\Python-para-analise-de-dados\\03 - Tratamento de arquivos, Módulos, Pacotes e Funções Built-in\\cientista.txt'), 'w')"
   ]
  },
  {
   "cell_type": "code",
   "execution_count": 16,
   "id": "c68af3ed",
   "metadata": {},
   "outputs": [],
   "source": [
    "# Gravando os dados no arquivo\n",
    "for palavra in texto.split():\n",
    "    arquivo.write(palavra + ' ')"
   ]
  },
  {
   "cell_type": "code",
   "execution_count": 39,
   "id": "739e82c4",
   "metadata": {},
   "outputs": [],
   "source": [
    "# Fechando o arquivo\n",
    "arquivo.close()"
   ]
  },
  {
   "cell_type": "code",
   "execution_count": 18,
   "id": "3f9b2d7e",
   "metadata": {},
   "outputs": [
    {
     "name": "stdout",
     "output_type": "stream",
     "text": [
      "Cientista de Dados pode ser uma excelente alternativa de carreira. Esses profissionais precisam saber como programar em Python. E, claro, devem ser proficientes em Data Science. \n"
     ]
    }
   ],
   "source": [
    "# Lendo o arquivo\n",
    "arquivo = open(r'C:\\Users\\Estudos\\Desktop\\DATA ENGINEER\\01 - Python\\Python-para-analise-de-dados\\03 - Tratamento de arquivos, Módulos, Pacotes e Funções Built-in\\cientista.txt', 'r')\n",
    "conteudo = arquivo.read()\n",
    "arquivo.close()\n",
    "\n",
    "print(conteudo)"
   ]
  },
  {
   "cell_type": "markdown",
   "id": "f1fd51ae",
   "metadata": {},
   "source": [
    "### Usando a Expressão with"
   ]
  },
  {
   "cell_type": "markdown",
   "id": "54ea2388",
   "metadata": {},
   "source": [
    "O método close() é executado automaticamente."
   ]
  },
  {
   "cell_type": "code",
   "execution_count": 19,
   "id": "52aaa8b8",
   "metadata": {},
   "outputs": [],
   "source": [
    "with open(r'C:\\Users\\Estudos\\Desktop\\DATA ENGINEER\\01 - Python\\Python-para-analise-de-dados\\03 - Tratamento de arquivos, Módulos, Pacotes e Funções Built-in\\cientista.txt', 'r') as arquivo:\n",
    "    conteudo = arquivo.read()"
   ]
  },
  {
   "cell_type": "code",
   "execution_count": 20,
   "id": "903381cd",
   "metadata": {},
   "outputs": [
    {
     "name": "stdout",
     "output_type": "stream",
     "text": [
      "Cientista de Dados pode ser uma excelente alternativa de carreira. Esses profissionais precisam saber como programar em Python. E, claro, devem ser proficientes em Data Science. \n"
     ]
    }
   ],
   "source": [
    "print(conteudo)"
   ]
  },
  {
   "cell_type": "code",
   "execution_count": 21,
   "id": "b5ea43d6",
   "metadata": {},
   "outputs": [
    {
     "name": "stdout",
     "output_type": "stream",
     "text": [
      "178\n"
     ]
    }
   ],
   "source": [
    "print(len(conteudo))"
   ]
  },
  {
   "cell_type": "code",
   "execution_count": 23,
   "id": "b36d25d6",
   "metadata": {},
   "outputs": [],
   "source": [
    "with open(r'C:\\Users\\Estudos\\Desktop\\DATA ENGINEER\\01 - Python\\Python-para-analise-de-dados\\03 - Tratamento de arquivos, Módulos, Pacotes e Funções Built-in\\cientista.txt', 'w') as arquivo:\n",
    "    arquivo.write(texto[:19])\n",
    "    arquivo.write('\\n')\n",
    "    arquivo.write(texto[28:66])"
   ]
  },
  {
   "cell_type": "code",
   "execution_count": 24,
   "id": "b599e93b",
   "metadata": {},
   "outputs": [
    {
     "name": "stdout",
     "output_type": "stream",
     "text": [
      "Cientista de Dados \n",
      "uma excelente alternativa de carreira.\n"
     ]
    }
   ],
   "source": [
    "# Lendo o arquivo\n",
    "arquivo = open(r'C:\\Users\\Estudos\\Desktop\\DATA ENGINEER\\01 - Python\\Python-para-analise-de-dados\\03 - Tratamento de arquivos, Módulos, Pacotes e Funções Built-in\\cientista.txt', 'r')\n",
    "conteudo = arquivo.read()\n",
    "arquivo.close()\n",
    "print(conteudo)"
   ]
  },
  {
   "cell_type": "markdown",
   "id": "54997d42",
   "metadata": {},
   "source": [
    "### Manipulando Arquivos CSV"
   ]
  },
  {
   "cell_type": "code",
   "execution_count": 25,
   "id": "8c95c8e5",
   "metadata": {},
   "outputs": [],
   "source": [
    "import csv"
   ]
  },
  {
   "cell_type": "code",
   "execution_count": 33,
   "id": "9a61f2c5",
   "metadata": {},
   "outputs": [],
   "source": [
    "with open(r'C:\\Users\\Estudos\\Desktop\\DATA ENGINEER\\01 - Python\\Python-para-analise-de-dados\\03 - Tratamento de arquivos, Módulos, Pacotes e Funções Built-in\\numeros.csv', 'w') as arquivo:\n",
    "    \n",
    "    # Cria o objeto de gravação\n",
    "    writer = csv.writer(arquivo)\n",
    "    \n",
    "    # Grava no arquivo linha a linha\n",
    "    writer.writerow(('nota1', 'nota2', 'nota3'))\n",
    "    writer.writerow((63, 87, 92))\n",
    "    writer.writerow((61, 79, 76))\n",
    "    writer.writerow((72, 64, 92))"
   ]
  },
  {
   "cell_type": "code",
   "execution_count": 34,
   "id": "5e448e30",
   "metadata": {},
   "outputs": [
    {
     "name": "stdout",
     "output_type": "stream",
     "text": [
      "['nota1', 'nota2', 'nota3']\n",
      "['63', '87', '92']\n",
      "['61', '79', '76']\n",
      "['72', '64', '92']\n"
     ]
    }
   ],
   "source": [
    "# Leituda de arquivos csv\n",
    "with open(r'C:\\Users\\Estudos\\Desktop\\DATA ENGINEER\\01 - Python\\Python-para-analise-de-dados\\03 - Tratamento de arquivos, Módulos, Pacotes e Funções Built-in\\numeros.csv', 'r', encoding='utf8', newline = '\\r\\n') as arquivo:\n",
    "    leitor = csv.reader(arquivo)\n",
    "    \n",
    "    for x in leitor:\n",
    "        print(x)\n",
    "    "
   ]
  }
 ],
 "metadata": {
  "kernelspec": {
   "display_name": "Python 3 (ipykernel)",
   "language": "python",
   "name": "python3"
  },
  "language_info": {
   "codemirror_mode": {
    "name": "ipython",
    "version": 3
   },
   "file_extension": ".py",
   "mimetype": "text/x-python",
   "name": "python",
   "nbconvert_exporter": "python",
   "pygments_lexer": "ipython3",
   "version": "3.9.13"
  }
 },
 "nbformat": 4,
 "nbformat_minor": 5
}
