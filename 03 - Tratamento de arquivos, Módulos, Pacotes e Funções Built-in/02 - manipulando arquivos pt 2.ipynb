{
 "cells": [
  {
   "cell_type": "markdown",
   "id": "0176a916",
   "metadata": {},
   "source": [
    "### Tratamento de arquivos, Módulos, Pacotes e Funções Built-in\n",
    "\n",
    "## Manipulação de Arquivos pt 2"
   ]
  },
  {
   "cell_type": "markdown",
   "id": "fb878445",
   "metadata": {},
   "source": [
    "### Manipulando Arquivos TXT"
   ]
  },
  {
   "cell_type": "code",
   "execution_count": 1,
   "id": "81ac2c92",
   "metadata": {},
   "outputs": [],
   "source": [
    "texto = \"Cientista de Dados pode ser uma excelente alternativa de carreira.\\n\"\n",
    "texto = texto + \"Esses profissionais precisam saber como programar em Python.\\n\"\n",
    "texto += \"E, claro, devem ser proficientes em Data Science.\""
   ]
  },
  {
   "cell_type": "code",
   "execution_count": 2,
   "id": "508bf4f4",
   "metadata": {},
   "outputs": [
    {
     "name": "stdout",
     "output_type": "stream",
     "text": [
      "Cientista de Dados pode ser uma excelente alternativa de carreira.\n",
      "Esses profissionais precisam saber como programar em Python.\n",
      "E, claro, devem ser proficientes em Data Science.\n"
     ]
    }
   ],
   "source": [
    "print(texto)"
   ]
  },
  {
   "cell_type": "code",
   "execution_count": 13,
   "id": "1a2b2e02",
   "metadata": {},
   "outputs": [],
   "source": [
    "# Importando o módulo os\n",
    "import os"
   ]
  },
  {
   "cell_type": "code",
   "execution_count": 14,
   "id": "f38167b6",
   "metadata": {},
   "outputs": [],
   "source": [
    "# Criando um arquivo\n",
    "arquivo = open(os.path.join(r'C:\\Users\\Estudos\\Desktop\\DATA ENGINEER\\01 - Python\\Python-para-analise-de-dados\\03 - Tratamento de arquivos, Módulos, Pacotes e Funções Built-in\\cientista.txt'), 'w')"
   ]
  },
  {
   "cell_type": "code",
   "execution_count": 16,
   "id": "5c04a79c",
   "metadata": {},
   "outputs": [],
   "source": [
    "# Gravando os dados no arquivo\n",
    "for palavra in texto.split():\n",
    "    arquivo.write(palavra + ' ')"
   ]
  },
  {
   "cell_type": "code",
   "execution_count": 17,
   "id": "3b548c8c",
   "metadata": {},
   "outputs": [],
   "source": [
    "# Fechando o arquivo\n",
    "arquivo.close()"
   ]
  },
  {
   "cell_type": "code",
   "execution_count": 18,
   "id": "b679d5f0",
   "metadata": {},
   "outputs": [
    {
     "name": "stdout",
     "output_type": "stream",
     "text": [
      "Cientista de Dados pode ser uma excelente alternativa de carreira. Esses profissionais precisam saber como programar em Python. E, claro, devem ser proficientes em Data Science. \n"
     ]
    }
   ],
   "source": [
    "# Lendo o arquivo\n",
    "arquivo = open(r'C:\\Users\\Estudos\\Desktop\\DATA ENGINEER\\01 - Python\\Python-para-analise-de-dados\\03 - Tratamento de arquivos, Módulos, Pacotes e Funções Built-in\\cientista.txt', 'r')\n",
    "conteudo = arquivo.read()\n",
    "arquivo.close()\n",
    "\n",
    "print(conteudo)"
   ]
  },
  {
   "cell_type": "markdown",
   "id": "75b637ad",
   "metadata": {},
   "source": [
    "### Usando a Expressão with"
   ]
  },
  {
   "cell_type": "markdown",
   "id": "ebdc7718",
   "metadata": {},
   "source": [
    "O método close() é executado automaticamente."
   ]
  },
  {
   "cell_type": "code",
   "execution_count": 19,
   "id": "fa86ba6c",
   "metadata": {},
   "outputs": [],
   "source": [
    "with open(r'C:\\Users\\Estudos\\Desktop\\DATA ENGINEER\\01 - Python\\Python-para-analise-de-dados\\03 - Tratamento de arquivos, Módulos, Pacotes e Funções Built-in\\cientista.txt', 'r') as arquivo:\n",
    "    conteudo = arquivo.read()"
   ]
  },
  {
   "cell_type": "code",
   "execution_count": 20,
   "id": "fb0dabb4",
   "metadata": {},
   "outputs": [
    {
     "name": "stdout",
     "output_type": "stream",
     "text": [
      "Cientista de Dados pode ser uma excelente alternativa de carreira. Esses profissionais precisam saber como programar em Python. E, claro, devem ser proficientes em Data Science. \n"
     ]
    }
   ],
   "source": [
    "print(conteudo)"
   ]
  },
  {
   "cell_type": "code",
   "execution_count": 21,
   "id": "9cc62a58",
   "metadata": {},
   "outputs": [
    {
     "name": "stdout",
     "output_type": "stream",
     "text": [
      "178\n"
     ]
    }
   ],
   "source": [
    "print(len(conteudo))"
   ]
  },
  {
   "cell_type": "code",
   "execution_count": 23,
   "id": "cf22a3e8",
   "metadata": {},
   "outputs": [],
   "source": [
    "with open(r'C:\\Users\\Estudos\\Desktop\\DATA ENGINEER\\01 - Python\\Python-para-analise-de-dados\\03 - Tratamento de arquivos, Módulos, Pacotes e Funções Built-in\\cientista.txt', 'w') as arquivo:\n",
    "    arquivo.write(texto[:19])\n",
    "    arquivo.write('\\n')\n",
    "    arquivo.write(texto[28:66])"
   ]
  },
  {
   "cell_type": "code",
   "execution_count": 24,
   "id": "afd3a1f2",
   "metadata": {},
   "outputs": [
    {
     "name": "stdout",
     "output_type": "stream",
     "text": [
      "Cientista de Dados \n",
      "uma excelente alternativa de carreira.\n"
     ]
    }
   ],
   "source": [
    "# Lendo o arquivo\n",
    "arquivo = open(r'C:\\Users\\Estudos\\Desktop\\DATA ENGINEER\\01 - Python\\Python-para-analise-de-dados\\03 - Tratamento de arquivos, Módulos, Pacotes e Funções Built-in\\cientista.txt', 'r')\n",
    "conteudo = arquivo.read()\n",
    "arquivo.close()\n",
    "print(conteudo)"
   ]
  },
  {
   "cell_type": "markdown",
   "id": "06eebdd5",
   "metadata": {},
   "source": [
    "### Manipulando Arquivos CSV"
   ]
  },
  {
   "cell_type": "code",
   "execution_count": 25,
   "id": "517dd695",
   "metadata": {},
   "outputs": [],
   "source": [
    "import csv"
   ]
  },
  {
   "cell_type": "code",
   "execution_count": 33,
   "id": "cda5cbc4",
   "metadata": {},
   "outputs": [],
   "source": [
    "with open(r'C:\\Users\\Estudos\\Desktop\\DATA ENGINEER\\01 - Python\\Python-para-analise-de-dados\\03 - Tratamento de arquivos, Módulos, Pacotes e Funções Built-in\\numeros.csv', 'w') as arquivo:\n",
    "    \n",
    "    # Cria o objeto de gravação\n",
    "    writer = csv.writer(arquivo)\n",
    "    \n",
    "    # Grava no arquivo linha a linha\n",
    "    writer.writerow(('nota1', 'nota2', 'nota3'))\n",
    "    writer.writerow((63, 87, 92))\n",
    "    writer.writerow((61, 79, 76))\n",
    "    writer.writerow((72, 64, 92))"
   ]
  },
  {
   "cell_type": "code",
   "execution_count": 34,
   "id": "43b24c08",
   "metadata": {},
   "outputs": [
    {
     "name": "stdout",
     "output_type": "stream",
     "text": [
      "['nota1', 'nota2', 'nota3']\n",
      "['63', '87', '92']\n",
      "['61', '79', '76']\n",
      "['72', '64', '92']\n"
     ]
    }
   ],
   "source": [
    "# Leituda de arquivos csv\n",
    "with open(r'C:\\Users\\Estudos\\Desktop\\DATA ENGINEER\\01 - Python\\Python-para-analise-de-dados\\03 - Tratamento de arquivos, Módulos, Pacotes e Funções Built-in\\numeros.csv', 'r', encoding='utf8', newline = '\\r\\n') as arquivo:\n",
    "    leitor = csv.reader(arquivo)\n",
    "    \n",
    "    for x in leitor:\n",
    "        print(x)\n",
    "    "
   ]
  }
 ],
 "metadata": {
  "kernelspec": {
   "display_name": "Python 3 (ipykernel)",
   "language": "python",
   "name": "python3"
  },
  "language_info": {
   "codemirror_mode": {
    "name": "ipython",
    "version": 3
   },
   "file_extension": ".py",
   "mimetype": "text/x-python",
   "name": "python",
   "nbconvert_exporter": "python",
   "pygments_lexer": "ipython3",
   "version": "3.9.13"
  }
 },
 "nbformat": 4,
 "nbformat_minor": 5
}
