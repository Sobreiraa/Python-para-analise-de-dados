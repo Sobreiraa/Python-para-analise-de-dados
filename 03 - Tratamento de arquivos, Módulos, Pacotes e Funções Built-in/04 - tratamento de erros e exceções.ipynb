{
 "cells": [
  {
   "cell_type": "markdown",
   "id": "7b604223",
   "metadata": {},
   "source": [
    "### Tratamento de arquivos, Módulos, Pacotes e Funções Built-in\n",
    "\n",
    "## Tratamento de Erros e Exceções"
   ]
  },
  {
   "cell_type": "markdown",
   "id": "5b0ef3cd",
   "metadata": {},
   "source": [
    "### Erros e Exceções"
   ]
  },
  {
   "cell_type": "code",
   "execution_count": 1,
   "id": "41c1db23",
   "metadata": {},
   "outputs": [
    {
     "ename": "SyntaxError",
     "evalue": "EOL while scanning string literal (629069595.py, line 2)",
     "output_type": "error",
     "traceback": [
      "\u001b[1;36m  File \u001b[1;32m\"C:\\Users\\Estudos\\AppData\\Local\\Temp\\ipykernel_5476\\629069595.py\"\u001b[1;36m, line \u001b[1;32m2\u001b[0m\n\u001b[1;33m    print('Hello)\u001b[0m\n\u001b[1;37m                 ^\u001b[0m\n\u001b[1;31mSyntaxError\u001b[0m\u001b[1;31m:\u001b[0m EOL while scanning string literal\n"
     ]
    }
   ],
   "source": [
    "# Erro \n",
    "print('Hello)"
   ]
  },
  {
   "cell_type": "code",
   "execution_count": 2,
   "id": "b75d26bb",
   "metadata": {},
   "outputs": [
    {
     "ename": "TypeError",
     "evalue": "unsupported operand type(s) for +: 'int' and 'str'",
     "output_type": "error",
     "traceback": [
      "\u001b[1;31m---------------------------------------------------------------------------\u001b[0m",
      "\u001b[1;31mTypeError\u001b[0m                                 Traceback (most recent call last)",
      "\u001b[1;32m~\\AppData\\Local\\Temp\\ipykernel_5476\\244150895.py\u001b[0m in \u001b[0;36m<module>\u001b[1;34m\u001b[0m\n\u001b[0;32m      1\u001b[0m \u001b[1;31m# Erro\u001b[0m\u001b[1;33m\u001b[0m\u001b[1;33m\u001b[0m\u001b[0m\n\u001b[1;32m----> 2\u001b[1;33m \u001b[1;36m8\u001b[0m \u001b[1;33m+\u001b[0m \u001b[1;34m's'\u001b[0m\u001b[1;33m\u001b[0m\u001b[1;33m\u001b[0m\u001b[0m\n\u001b[0m",
      "\u001b[1;31mTypeError\u001b[0m: unsupported operand type(s) for +: 'int' and 'str'"
     ]
    }
   ],
   "source": [
    "# Erro\n",
    "8 + 's'"
   ]
  },
  {
   "cell_type": "code",
   "execution_count": 3,
   "id": "e8e863de",
   "metadata": {},
   "outputs": [],
   "source": [
    "# Criando uma função\n",
    "def numdiv(num1, num2):\n",
    "    resultado = num1 / num2\n",
    "    print(resultado)"
   ]
  },
  {
   "cell_type": "code",
   "execution_count": 4,
   "id": "faced229",
   "metadata": {},
   "outputs": [
    {
     "name": "stdout",
     "output_type": "stream",
     "text": [
      "4.0\n"
     ]
    }
   ],
   "source": [
    "numdiv(8, 2)"
   ]
  },
  {
   "cell_type": "code",
   "execution_count": 6,
   "id": "08b25b58",
   "metadata": {},
   "outputs": [
    {
     "ename": "ZeroDivisionError",
     "evalue": "division by zero",
     "output_type": "error",
     "traceback": [
      "\u001b[1;31m---------------------------------------------------------------------------\u001b[0m",
      "\u001b[1;31mZeroDivisionError\u001b[0m                         Traceback (most recent call last)",
      "\u001b[1;32m~\\AppData\\Local\\Temp\\ipykernel_5476\\1209898843.py\u001b[0m in \u001b[0;36m<module>\u001b[1;34m\u001b[0m\n\u001b[1;32m----> 1\u001b[1;33m \u001b[0mnumdiv\u001b[0m\u001b[1;33m(\u001b[0m\u001b[1;36m5\u001b[0m\u001b[1;33m,\u001b[0m \u001b[1;36m0\u001b[0m\u001b[1;33m)\u001b[0m\u001b[1;33m\u001b[0m\u001b[1;33m\u001b[0m\u001b[0m\n\u001b[0m",
      "\u001b[1;32m~\\AppData\\Local\\Temp\\ipykernel_5476\\688552913.py\u001b[0m in \u001b[0;36mnumdiv\u001b[1;34m(num1, num2)\u001b[0m\n\u001b[0;32m      1\u001b[0m \u001b[1;31m# Criando uma função\u001b[0m\u001b[1;33m\u001b[0m\u001b[1;33m\u001b[0m\u001b[0m\n\u001b[0;32m      2\u001b[0m \u001b[1;32mdef\u001b[0m \u001b[0mnumdiv\u001b[0m\u001b[1;33m(\u001b[0m\u001b[0mnum1\u001b[0m\u001b[1;33m,\u001b[0m \u001b[0mnum2\u001b[0m\u001b[1;33m)\u001b[0m\u001b[1;33m:\u001b[0m\u001b[1;33m\u001b[0m\u001b[1;33m\u001b[0m\u001b[0m\n\u001b[1;32m----> 3\u001b[1;33m     \u001b[0mresultado\u001b[0m \u001b[1;33m=\u001b[0m \u001b[0mnum1\u001b[0m \u001b[1;33m/\u001b[0m \u001b[0mnum2\u001b[0m\u001b[1;33m\u001b[0m\u001b[1;33m\u001b[0m\u001b[0m\n\u001b[0m\u001b[0;32m      4\u001b[0m     \u001b[0mprint\u001b[0m\u001b[1;33m(\u001b[0m\u001b[0mresultado\u001b[0m\u001b[1;33m)\u001b[0m\u001b[1;33m\u001b[0m\u001b[1;33m\u001b[0m\u001b[0m\n",
      "\u001b[1;31mZeroDivisionError\u001b[0m: division by zero"
     ]
    }
   ],
   "source": [
    "numdiv(5, 0)"
   ]
  },
  {
   "cell_type": "markdown",
   "id": "6d7968f0",
   "metadata": {},
   "source": [
    "### Try, Except, Finally"
   ]
  },
  {
   "cell_type": "code",
   "execution_count": 9,
   "id": "7a95f19b",
   "metadata": {},
   "outputs": [
    {
     "name": "stdout",
     "output_type": "stream",
     "text": [
      "Operação não permitida.\n"
     ]
    }
   ],
   "source": [
    "# Utilizando o try e except\n",
    "try: \n",
    "    8 + 's'\n",
    "except:\n",
    "    print('Operação não permitida.')"
   ]
  },
  {
   "cell_type": "code",
   "execution_count": 10,
   "id": "d848f97e",
   "metadata": {},
   "outputs": [
    {
     "name": "stdout",
     "output_type": "stream",
     "text": [
      "Conteúdo gravado com sucesso.\n"
     ]
    }
   ],
   "source": [
    "# Utilizando o try, except e else\n",
    "try:\n",
    "    f = open(r'C:\\Users\\Estudos\\Desktop\\DATA ENGINEER\\01 - Python\\Python-para-analise-de-dados\\03 - Tratamento de arquivos, Módulos, Pacotes e Funções Built-in\\Arquivos\\testandoerros.txt', 'w')\n",
    "    f.write('Gravando no Arquivo')\n",
    "except IOError:\n",
    "    print('Erro: arquivo não encontrado ou não pode ser salvo.')\n",
    "else:\n",
    "    print('Conteúdo gravado com sucesso.')\n",
    "    f.close()"
   ]
  },
  {
   "cell_type": "code",
   "execution_count": 11,
   "id": "9d11db13",
   "metadata": {},
   "outputs": [
    {
     "name": "stdout",
     "output_type": "stream",
     "text": [
      "Erro: arquivo não encontrado ou não pode ser salvo.\n"
     ]
    }
   ],
   "source": [
    "# Utilizando o try, except e else\n",
    "try:\n",
    "    f = open(r'C:\\Users\\Estudos\\Desktop\\DATAdawdawdwas\\03 - Tratamento de arquivos, Módulos, Pacotes e Funções Built-in\\Arquivos\\testandoerros.txt', 'w')\n",
    "    f.write('Gravando no Arquivo')\n",
    "except IOError:\n",
    "    print('Erro: arquivo não encontrado ou não pode ser salvo.')\n",
    "else:\n",
    "    print('Conteúdo gravado com sucesso.')\n",
    "    f.close()"
   ]
  },
  {
   "cell_type": "code",
   "execution_count": 12,
   "id": "2952fa99",
   "metadata": {},
   "outputs": [
    {
     "name": "stdout",
     "output_type": "stream",
     "text": [
      "Conteúdo gravado com sucesso.\n",
      "Comandos no bloco finally são sempre executados.\n"
     ]
    }
   ],
   "source": [
    "# Utilizando o try, except, else e finally\n",
    "try:\n",
    "    f = open(r'C:\\Users\\Estudos\\Desktop\\DATA ENGINEER\\01 - Python\\Python-para-analise-de-dados\\03 - Tratamento de arquivos, Módulos, Pacotes e Funções Built-in\\Arquivos\\testandoerros.txt', 'w')\n",
    "    f.write('Gravando no Arquivo')\n",
    "except IOError:\n",
    "    print('Erro: arquivo não encontrado ou não pode ser salvo.')\n",
    "else:\n",
    "    print('Conteúdo gravado com sucesso.')\n",
    "    f.close()\n",
    "finally:\n",
    "    print('Comandos no bloco finally são sempre executados.')"
   ]
  },
  {
   "cell_type": "code",
   "execution_count": null,
   "id": "cfb61add",
   "metadata": {},
   "outputs": [],
   "source": []
  }
 ],
 "metadata": {
  "kernelspec": {
   "display_name": "Python 3 (ipykernel)",
   "language": "python",
   "name": "python3"
  },
  "language_info": {
   "codemirror_mode": {
    "name": "ipython",
    "version": 3
   },
   "file_extension": ".py",
   "mimetype": "text/x-python",
   "name": "python",
   "nbconvert_exporter": "python",
   "pygments_lexer": "ipython3",
   "version": "3.9.13"
  }
 },
 "nbformat": 4,
 "nbformat_minor": 5
}
