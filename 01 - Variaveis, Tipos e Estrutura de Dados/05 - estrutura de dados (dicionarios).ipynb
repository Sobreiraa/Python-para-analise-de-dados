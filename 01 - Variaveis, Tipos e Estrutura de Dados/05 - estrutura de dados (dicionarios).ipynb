{
 "cells": [
  {
   "cell_type": "markdown",
   "id": "18b34376",
   "metadata": {},
   "source": [
    "# Variáveis, Tipos e Estrutura de dados em Python.\n",
    "\n",
    "## Estrutura de dados (Dicionários)"
   ]
  },
  {
   "cell_type": "markdown",
   "id": "ec94a0c0",
   "metadata": {},
   "source": [
    "### Trabalhando com dicionários"
   ]
  },
  {
   "cell_type": "code",
   "execution_count": 1,
   "id": "8f493beb",
   "metadata": {},
   "outputs": [],
   "source": [
    "# Criando um dicionário\n",
    "estudantes_dict = {\"Pedro\":24, \"Ana\":22, \"Ronaldo\":26, \"Janaina\": 25}"
   ]
  },
  {
   "cell_type": "code",
   "execution_count": 2,
   "id": "729ad87f",
   "metadata": {},
   "outputs": [
    {
     "data": {
      "text/plain": [
       "{'Pedro': 24, 'Ana': 22, 'Ronaldo': 26, 'Janaina': 25}"
      ]
     },
     "execution_count": 2,
     "metadata": {},
     "output_type": "execute_result"
    }
   ],
   "source": [
    "estudantes_dict"
   ]
  },
  {
   "cell_type": "code",
   "execution_count": 6,
   "id": "71d87e15",
   "metadata": {},
   "outputs": [
    {
     "data": {
      "text/plain": [
       "24"
      ]
     },
     "execution_count": 6,
     "metadata": {},
     "output_type": "execute_result"
    }
   ],
   "source": [
    "estudantes_dict[\"Pedro\"]"
   ]
  },
  {
   "cell_type": "code",
   "execution_count": 4,
   "id": "a6f43ed4",
   "metadata": {},
   "outputs": [],
   "source": [
    "estudantes_dict[\"Marcelo\"] = 23"
   ]
  },
  {
   "cell_type": "code",
   "execution_count": 5,
   "id": "6f73f186",
   "metadata": {},
   "outputs": [
    {
     "data": {
      "text/plain": [
       "23"
      ]
     },
     "execution_count": 5,
     "metadata": {},
     "output_type": "execute_result"
    }
   ],
   "source": [
    "estudantes_dict[\"Marcelo\"]"
   ]
  },
  {
   "cell_type": "code",
   "execution_count": 7,
   "id": "4b974d5b",
   "metadata": {},
   "outputs": [
    {
     "data": {
      "text/plain": [
       "{'Pedro': 24, 'Ana': 22, 'Ronaldo': 26, 'Janaina': 25, 'Marcelo': 23}"
      ]
     },
     "execution_count": 7,
     "metadata": {},
     "output_type": "execute_result"
    }
   ],
   "source": [
    "estudantes_dict"
   ]
  },
  {
   "cell_type": "code",
   "execution_count": 8,
   "id": "680925b3",
   "metadata": {},
   "outputs": [],
   "source": [
    "# Limpando o dicionário\n",
    "estudantes_dict.clear()"
   ]
  },
  {
   "cell_type": "code",
   "execution_count": 9,
   "id": "cf556876",
   "metadata": {},
   "outputs": [
    {
     "data": {
      "text/plain": [
       "{}"
      ]
     },
     "execution_count": 9,
     "metadata": {},
     "output_type": "execute_result"
    }
   ],
   "source": [
    "estudantes_dict"
   ]
  },
  {
   "cell_type": "code",
   "execution_count": 10,
   "id": "3170f683",
   "metadata": {},
   "outputs": [],
   "source": [
    "estudantes = {\"Pedro\":24, \"Ana\":22, \"Ronaldo\":26, \"Janaina\": 25}"
   ]
  },
  {
   "cell_type": "code",
   "execution_count": 11,
   "id": "d80be102",
   "metadata": {},
   "outputs": [
    {
     "data": {
      "text/plain": [
       "{'Pedro': 24, 'Ana': 22, 'Ronaldo': 26, 'Janaina': 25}"
      ]
     },
     "execution_count": 11,
     "metadata": {},
     "output_type": "execute_result"
    }
   ],
   "source": [
    "estudantes"
   ]
  },
  {
   "cell_type": "code",
   "execution_count": 12,
   "id": "f3b6f97c",
   "metadata": {},
   "outputs": [
    {
     "data": {
      "text/plain": [
       "4"
      ]
     },
     "execution_count": 12,
     "metadata": {},
     "output_type": "execute_result"
    }
   ],
   "source": [
    "len(estudantes)"
   ]
  },
  {
   "cell_type": "code",
   "execution_count": 13,
   "id": "9a794514",
   "metadata": {},
   "outputs": [
    {
     "data": {
      "text/plain": [
       "dict_keys(['Pedro', 'Ana', 'Ronaldo', 'Janaina'])"
      ]
     },
     "execution_count": 13,
     "metadata": {},
     "output_type": "execute_result"
    }
   ],
   "source": [
    "estudantes.keys()"
   ]
  },
  {
   "cell_type": "code",
   "execution_count": 14,
   "id": "a9cc1126",
   "metadata": {},
   "outputs": [
    {
     "data": {
      "text/plain": [
       "dict_values([24, 22, 26, 25])"
      ]
     },
     "execution_count": 14,
     "metadata": {},
     "output_type": "execute_result"
    }
   ],
   "source": [
    "estudantes.values()"
   ]
  },
  {
   "cell_type": "code",
   "execution_count": 15,
   "id": "4148a6bf",
   "metadata": {},
   "outputs": [
    {
     "data": {
      "text/plain": [
       "dict_items([('Pedro', 24), ('Ana', 22), ('Ronaldo', 26), ('Janaina', 25)])"
      ]
     },
     "execution_count": 15,
     "metadata": {},
     "output_type": "execute_result"
    }
   ],
   "source": [
    "estudantes.items()"
   ]
  },
  {
   "cell_type": "code",
   "execution_count": 16,
   "id": "8784f3ee",
   "metadata": {},
   "outputs": [],
   "source": [
    "estudantes2 = {\"Camila\":27, \"Adriana\":28, \"Roberta\":26}"
   ]
  },
  {
   "cell_type": "code",
   "execution_count": 17,
   "id": "401aad7f",
   "metadata": {},
   "outputs": [
    {
     "data": {
      "text/plain": [
       "{'Camila': 27, 'Adriana': 28, 'Roberta': 26}"
      ]
     },
     "execution_count": 17,
     "metadata": {},
     "output_type": "execute_result"
    }
   ],
   "source": [
    "estudantes2"
   ]
  },
  {
   "cell_type": "code",
   "execution_count": 18,
   "id": "03a052fc",
   "metadata": {},
   "outputs": [],
   "source": [
    "estudantes.update(estudantes2)"
   ]
  },
  {
   "cell_type": "code",
   "execution_count": 19,
   "id": "6f02355a",
   "metadata": {},
   "outputs": [
    {
     "data": {
      "text/plain": [
       "{'Pedro': 24,\n",
       " 'Ana': 22,\n",
       " 'Ronaldo': 26,\n",
       " 'Janaina': 25,\n",
       " 'Camila': 27,\n",
       " 'Adriana': 28,\n",
       " 'Roberta': 26}"
      ]
     },
     "execution_count": 19,
     "metadata": {},
     "output_type": "execute_result"
    }
   ],
   "source": [
    "estudantes"
   ]
  },
  {
   "cell_type": "code",
   "execution_count": 20,
   "id": "76e8bd83",
   "metadata": {},
   "outputs": [],
   "source": [
    "dic1 = {}"
   ]
  },
  {
   "cell_type": "code",
   "execution_count": 21,
   "id": "0e35666b",
   "metadata": {},
   "outputs": [
    {
     "data": {
      "text/plain": [
       "{}"
      ]
     },
     "execution_count": 21,
     "metadata": {},
     "output_type": "execute_result"
    }
   ],
   "source": [
    "dic1"
   ]
  },
  {
   "cell_type": "code",
   "execution_count": 22,
   "id": "2567587b",
   "metadata": {},
   "outputs": [],
   "source": [
    "dic1[\"chave_um\"] = 2"
   ]
  },
  {
   "cell_type": "code",
   "execution_count": 23,
   "id": "b9fbad71",
   "metadata": {},
   "outputs": [
    {
     "name": "stdout",
     "output_type": "stream",
     "text": [
      "{'chave_um': 2}\n"
     ]
    }
   ],
   "source": [
    "print(dic1)"
   ]
  },
  {
   "cell_type": "code",
   "execution_count": 24,
   "id": "5711927b",
   "metadata": {},
   "outputs": [],
   "source": [
    "dic1[10] = 5"
   ]
  },
  {
   "cell_type": "code",
   "execution_count": 25,
   "id": "9bbe0efb",
   "metadata": {},
   "outputs": [
    {
     "data": {
      "text/plain": [
       "{'chave_um': 2, 10: 5}"
      ]
     },
     "execution_count": 25,
     "metadata": {},
     "output_type": "execute_result"
    }
   ],
   "source": [
    "dic1"
   ]
  },
  {
   "cell_type": "code",
   "execution_count": 26,
   "id": "da0244c1",
   "metadata": {},
   "outputs": [],
   "source": [
    "dic1[9.13] = \"Python\""
   ]
  },
  {
   "cell_type": "code",
   "execution_count": 27,
   "id": "ad888055",
   "metadata": {},
   "outputs": [
    {
     "data": {
      "text/plain": [
       "{'chave_um': 2, 10: 5, 9.13: 'Python'}"
      ]
     },
     "execution_count": 27,
     "metadata": {},
     "output_type": "execute_result"
    }
   ],
   "source": [
    "dic1"
   ]
  },
  {
   "cell_type": "code",
   "execution_count": 28,
   "id": "3b797dc6",
   "metadata": {},
   "outputs": [],
   "source": [
    "dic1[\"Teste\"] = True"
   ]
  },
  {
   "cell_type": "code",
   "execution_count": 29,
   "id": "ee61f154",
   "metadata": {},
   "outputs": [
    {
     "data": {
      "text/plain": [
       "{'chave_um': 2, 10: 5, 9.13: 'Python', 'Teste': True}"
      ]
     },
     "execution_count": 29,
     "metadata": {},
     "output_type": "execute_result"
    }
   ],
   "source": [
    "dic1"
   ]
  },
  {
   "cell_type": "code",
   "execution_count": 30,
   "id": "e3bdc2f4",
   "metadata": {},
   "outputs": [],
   "source": [
    "dict1 = {}"
   ]
  },
  {
   "cell_type": "code",
   "execution_count": 31,
   "id": "fd7e46cf",
   "metadata": {},
   "outputs": [],
   "source": [
    "dict1[\"Teste\"] = 10"
   ]
  },
  {
   "cell_type": "code",
   "execution_count": 32,
   "id": "ddf6a9e5",
   "metadata": {},
   "outputs": [],
   "source": [
    "dict1[\"Key\"] = \"Teste\""
   ]
  },
  {
   "cell_type": "code",
   "execution_count": 33,
   "id": "32051238",
   "metadata": {},
   "outputs": [
    {
     "data": {
      "text/plain": [
       "{'Teste': 10, 'Key': 'Teste'}"
      ]
     },
     "execution_count": 33,
     "metadata": {},
     "output_type": "execute_result"
    }
   ],
   "source": [
    "# Chave e valor podem ser iguais, mas representam coisas diferentes\n",
    "dict1"
   ]
  },
  {
   "cell_type": "code",
   "execution_count": 34,
   "id": "a7f1c96b",
   "metadata": {},
   "outputs": [],
   "source": [
    "dict2 = {}"
   ]
  },
  {
   "cell_type": "code",
   "execution_count": 35,
   "id": "92081a6e",
   "metadata": {},
   "outputs": [],
   "source": [
    "dict2[\"Key1\"] = \"Data Science\""
   ]
  },
  {
   "cell_type": "code",
   "execution_count": 36,
   "id": "0729fbe1",
   "metadata": {},
   "outputs": [],
   "source": [
    "dict2[\"Key2\"] = 10"
   ]
  },
  {
   "cell_type": "code",
   "execution_count": 37,
   "id": "5c2c1784",
   "metadata": {},
   "outputs": [],
   "source": [
    "dict2[\"Key3\"] = 100"
   ]
  },
  {
   "cell_type": "code",
   "execution_count": 38,
   "id": "778ae59d",
   "metadata": {},
   "outputs": [
    {
     "data": {
      "text/plain": [
       "{'Key1': 'Data Science', 'Key2': 10, 'Key3': 100}"
      ]
     },
     "execution_count": 38,
     "metadata": {},
     "output_type": "execute_result"
    }
   ],
   "source": [
    "dict2"
   ]
  },
  {
   "cell_type": "code",
   "execution_count": 39,
   "id": "735f010c",
   "metadata": {},
   "outputs": [],
   "source": [
    "a = dict2[\"Key1\"]"
   ]
  },
  {
   "cell_type": "code",
   "execution_count": 40,
   "id": "f652b6b3",
   "metadata": {},
   "outputs": [],
   "source": [
    "b = dict2[\"Key2\"]"
   ]
  },
  {
   "cell_type": "code",
   "execution_count": 41,
   "id": "f3b5c94c",
   "metadata": {},
   "outputs": [],
   "source": [
    "c = dict2[\"Key3\"]"
   ]
  },
  {
   "cell_type": "code",
   "execution_count": 42,
   "id": "999f6cb4",
   "metadata": {},
   "outputs": [
    {
     "data": {
      "text/plain": [
       "('Data Science', 10, 100)"
      ]
     },
     "execution_count": 42,
     "metadata": {},
     "output_type": "execute_result"
    }
   ],
   "source": [
    "a, b, c"
   ]
  },
  {
   "cell_type": "code",
   "execution_count": 43,
   "id": "9612510e",
   "metadata": {},
   "outputs": [],
   "source": [
    "# Dicionário de listas\n",
    "dict3 = {'chave1':1230, 'chave2':[22, 543, 73,4], 'chave3':['picanha', 'fraldinha', 'alcatra']}"
   ]
  },
  {
   "cell_type": "code",
   "execution_count": 44,
   "id": "543db0d7",
   "metadata": {},
   "outputs": [
    {
     "data": {
      "text/plain": [
       "{'chave1': 1230,\n",
       " 'chave2': [22, 543, 73, 4],\n",
       " 'chave3': ['picanha', 'fraldinha', 'alcatra']}"
      ]
     },
     "execution_count": 44,
     "metadata": {},
     "output_type": "execute_result"
    }
   ],
   "source": [
    "dict3"
   ]
  },
  {
   "cell_type": "code",
   "execution_count": null,
   "id": "a394dce7",
   "metadata": {},
   "outputs": [],
   "source": [
    "dict3['chave2']"
   ]
  },
  {
   "cell_type": "code",
   "execution_count": 45,
   "id": "59481514",
   "metadata": {},
   "outputs": [
    {
     "data": {
      "text/plain": [
       "'picanha'"
      ]
     },
     "execution_count": 45,
     "metadata": {},
     "output_type": "execute_result"
    }
   ],
   "source": [
    "# Acessando um item da lista, dentro do dicionário\n",
    "dict3['chave3'][0]"
   ]
  },
  {
   "cell_type": "code",
   "execution_count": 46,
   "id": "0eaff361",
   "metadata": {},
   "outputs": [],
   "source": [
    "# Operçaões com itens da lista, dentro do dicionário\n",
    "var1 = dict3['chave2'][0] - 2"
   ]
  },
  {
   "cell_type": "code",
   "execution_count": 47,
   "id": "94323ef6",
   "metadata": {},
   "outputs": [
    {
     "data": {
      "text/plain": [
       "20"
      ]
     },
     "execution_count": 47,
     "metadata": {},
     "output_type": "execute_result"
    }
   ],
   "source": [
    "var1"
   ]
  },
  {
   "cell_type": "code",
   "execution_count": 48,
   "id": "9c8805d0",
   "metadata": {},
   "outputs": [],
   "source": [
    "dict3['chave2'][0] -= 2"
   ]
  },
  {
   "cell_type": "code",
   "execution_count": 49,
   "id": "33729eb5",
   "metadata": {},
   "outputs": [
    {
     "data": {
      "text/plain": [
       "{'chave1': 1230,\n",
       " 'chave2': [20, 543, 73, 4],\n",
       " 'chave3': ['picanha', 'fraldinha', 'alcatra']}"
      ]
     },
     "execution_count": 49,
     "metadata": {},
     "output_type": "execute_result"
    }
   ],
   "source": [
    "dict3"
   ]
  },
  {
   "cell_type": "markdown",
   "id": "7c12d1ad",
   "metadata": {},
   "source": [
    "### Criando dicionários aninhados"
   ]
  },
  {
   "cell_type": "code",
   "execution_count": null,
   "id": "81c82c82",
   "metadata": {},
   "outputs": [],
   "source": [
    "dict_aninhado = {'key1':{'key2_aninhada':{'key3_aninhada':'Dict aninhado em Python'}}}"
   ]
  },
  {
   "cell_type": "code",
   "execution_count": null,
   "id": "87ace959",
   "metadata": {},
   "outputs": [],
   "source": [
    "dict_aninhado"
   ]
  },
  {
   "cell_type": "code",
   "execution_count": null,
   "id": "d0f8c681",
   "metadata": {},
   "outputs": [],
   "source": [
    "dict_aninhado['key1']['key2_aninhada']['key_3_aninhada']"
   ]
  }
 ],
 "metadata": {
  "kernelspec": {
   "display_name": "Python 3 (ipykernel)",
   "language": "python",
   "name": "python3"
  },
  "language_info": {
   "codemirror_mode": {
    "name": "ipython",
    "version": 3
   },
   "file_extension": ".py",
   "mimetype": "text/x-python",
   "name": "python",
   "nbconvert_exporter": "python",
   "pygments_lexer": "ipython3",
   "version": "3.9.13"
  }
 },
 "nbformat": 4,
 "nbformat_minor": 5
}
