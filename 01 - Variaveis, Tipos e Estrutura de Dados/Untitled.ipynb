{
 "cells": [
  {
   "cell_type": "markdown",
   "id": "f9b98976",
   "metadata": {},
   "source": [
    "# Variáveis, Tipos e Estrutura de dados em Python.\n",
    "\n",
    "## Estrutura de dados (Listas)"
   ]
  },
  {
   "cell_type": "markdown",
   "id": "925dae3c",
   "metadata": {},
   "source": [
    "### Trabalhando com listas"
   ]
  },
  {
   "cell_type": "code",
   "execution_count": 1,
   "id": "d5e6ff3e",
   "metadata": {},
   "outputs": [],
   "source": [
    "# Criando uma lista\n",
    "lista_1 = [\"arroz, frango, tomate, leite\"]"
   ]
  },
  {
   "cell_type": "code",
   "execution_count": 2,
   "id": "f0084a07",
   "metadata": {},
   "outputs": [
    {
     "data": {
      "text/plain": [
       "list"
      ]
     },
     "execution_count": 2,
     "metadata": {},
     "output_type": "execute_result"
    }
   ],
   "source": [
    "type(lista_1)"
   ]
  },
  {
   "cell_type": "code",
   "execution_count": 3,
   "id": "b02b53fa",
   "metadata": {},
   "outputs": [
    {
     "name": "stdout",
     "output_type": "stream",
     "text": [
      "['arroz, frango, tomate, leite']\n"
     ]
    }
   ],
   "source": [
    "# Imprimindo a lista\n",
    "print(lista_1)"
   ]
  },
  {
   "cell_type": "code",
   "execution_count": 4,
   "id": "7f8e3da7",
   "metadata": {},
   "outputs": [],
   "source": [
    "# Criando outra lista\n",
    "lista_2 = [\"arroz\", \"frango\", \"tomate\", \"leite\"]"
   ]
  },
  {
   "cell_type": "code",
   "execution_count": 5,
   "id": "8950b371",
   "metadata": {},
   "outputs": [
    {
     "data": {
      "text/plain": [
       "list"
      ]
     },
     "execution_count": 5,
     "metadata": {},
     "output_type": "execute_result"
    }
   ],
   "source": [
    "type(lista_2)"
   ]
  },
  {
   "cell_type": "code",
   "execution_count": 6,
   "id": "5b5f99be",
   "metadata": {},
   "outputs": [
    {
     "name": "stdout",
     "output_type": "stream",
     "text": [
      "['arroz', 'frango', 'tomate', 'leite']\n"
     ]
    }
   ],
   "source": [
    "# Imprimindo a lista\n",
    "print(lista_2)"
   ]
  },
  {
   "cell_type": "code",
   "execution_count": 7,
   "id": "b9658122",
   "metadata": {},
   "outputs": [],
   "source": [
    "lista_3 = [23, 100, \"Engenheiro de Dados\"]"
   ]
  },
  {
   "cell_type": "code",
   "execution_count": 8,
   "id": "5f1d88da",
   "metadata": {},
   "outputs": [
    {
     "data": {
      "text/plain": [
       "list"
      ]
     },
     "execution_count": 8,
     "metadata": {},
     "output_type": "execute_result"
    }
   ],
   "source": [
    "type(lista_3)"
   ]
  },
  {
   "cell_type": "code",
   "execution_count": 9,
   "id": "9a504380",
   "metadata": {},
   "outputs": [
    {
     "name": "stdout",
     "output_type": "stream",
     "text": [
      "[23, 100, 'Engenheiro de Dados']\n"
     ]
    }
   ],
   "source": [
    "print(lista_3)"
   ]
  },
  {
   "cell_type": "code",
   "execution_count": 10,
   "id": "b6a46619",
   "metadata": {},
   "outputs": [],
   "source": [
    "# Atribuindo cada valor da lista a uma variável\n",
    "item1 = lista_3[0]\n",
    "item2 = lista_3[1]\n",
    "item3 = lista_3[2]"
   ]
  },
  {
   "cell_type": "code",
   "execution_count": 11,
   "id": "676c400b",
   "metadata": {},
   "outputs": [
    {
     "name": "stdout",
     "output_type": "stream",
     "text": [
      "23 100 Engenheiro de Dados\n"
     ]
    }
   ],
   "source": [
    "print(item1, item2, item3)"
   ]
  },
  {
   "cell_type": "markdown",
   "id": "464990f7",
   "metadata": {},
   "source": [
    "### Atualizando um item da lista"
   ]
  },
  {
   "cell_type": "code",
   "execution_count": 12,
   "id": "380d87f7",
   "metadata": {},
   "outputs": [
    {
     "data": {
      "text/plain": [
       "['arroz', 'frango', 'tomate', 'leite']"
      ]
     },
     "execution_count": 12,
     "metadata": {},
     "output_type": "execute_result"
    }
   ],
   "source": [
    "lista_2"
   ]
  },
  {
   "cell_type": "code",
   "execution_count": 13,
   "id": "877e1f6d",
   "metadata": {},
   "outputs": [
    {
     "data": {
      "text/plain": [
       "'tomate'"
      ]
     },
     "execution_count": 13,
     "metadata": {},
     "output_type": "execute_result"
    }
   ],
   "source": [
    "# Imprimindo um item da lista\n",
    "lista_2[2]"
   ]
  },
  {
   "cell_type": "code",
   "execution_count": 14,
   "id": "da440d9b",
   "metadata": {},
   "outputs": [],
   "source": [
    "# Atualizando um item da lista\n",
    "lista_2[2] = \"chocolate\""
   ]
  },
  {
   "cell_type": "code",
   "execution_count": 15,
   "id": "da3f288c",
   "metadata": {},
   "outputs": [
    {
     "data": {
      "text/plain": [
       "['arroz', 'frango', 'chocolate', 'leite']"
      ]
     },
     "execution_count": 15,
     "metadata": {},
     "output_type": "execute_result"
    }
   ],
   "source": [
    "# Imprimindo a lista após alteração\n",
    "lista_2"
   ]
  },
  {
   "cell_type": "markdown",
   "id": "feb2709e",
   "metadata": {},
   "source": [
    "### Deletando um item da lista"
   ]
  },
  {
   "cell_type": "code",
   "execution_count": 17,
   "id": "52488378",
   "metadata": {},
   "outputs": [],
   "source": [
    "# Deletando o item 4 da lista\n",
    "del lista_2[3]"
   ]
  },
  {
   "cell_type": "code",
   "execution_count": 18,
   "id": "a1c078d8",
   "metadata": {},
   "outputs": [
    {
     "data": {
      "text/plain": [
       "['arroz', 'frango', 'chocolate']"
      ]
     },
     "execution_count": 18,
     "metadata": {},
     "output_type": "execute_result"
    }
   ],
   "source": [
    "lista_2"
   ]
  },
  {
   "cell_type": "markdown",
   "id": "b174d31f",
   "metadata": {},
   "source": [
    "### Lista de listas (Listas Aninhadas)"
   ]
  },
  {
   "cell_type": "code",
   "execution_count": 19,
   "id": "d4c55d1b",
   "metadata": {},
   "outputs": [],
   "source": [
    "# Criando uma lista de listas\n",
    "listas = [ [1, 2, 3], [10, 15, 14], [10.1, 8.7, 2.3]]"
   ]
  },
  {
   "cell_type": "code",
   "execution_count": 20,
   "id": "096d8d42",
   "metadata": {},
   "outputs": [
    {
     "name": "stdout",
     "output_type": "stream",
     "text": [
      "[[1, 2, 3], [10, 15, 14], [10.1, 8.7, 2.3]]\n"
     ]
    }
   ],
   "source": [
    "print(listas)"
   ]
  },
  {
   "cell_type": "code",
   "execution_count": 21,
   "id": "fabc335b",
   "metadata": {},
   "outputs": [],
   "source": [
    "a = listas[0]"
   ]
  },
  {
   "cell_type": "code",
   "execution_count": 22,
   "id": "44c9a11f",
   "metadata": {},
   "outputs": [
    {
     "data": {
      "text/plain": [
       "[1, 2, 3]"
      ]
     },
     "execution_count": 22,
     "metadata": {},
     "output_type": "execute_result"
    }
   ],
   "source": [
    "a"
   ]
  },
  {
   "cell_type": "code",
   "execution_count": 23,
   "id": "5895d920",
   "metadata": {},
   "outputs": [],
   "source": [
    "b = a[0]"
   ]
  },
  {
   "cell_type": "code",
   "execution_count": 24,
   "id": "262f3599",
   "metadata": {},
   "outputs": [
    {
     "data": {
      "text/plain": [
       "1"
      ]
     },
     "execution_count": 24,
     "metadata": {},
     "output_type": "execute_result"
    }
   ],
   "source": [
    "b"
   ]
  },
  {
   "cell_type": "code",
   "execution_count": 25,
   "id": "f0800e53",
   "metadata": {},
   "outputs": [],
   "source": [
    "lista1 = listas[1]"
   ]
  },
  {
   "cell_type": "code",
   "execution_count": 26,
   "id": "ae6ce9ae",
   "metadata": {},
   "outputs": [
    {
     "data": {
      "text/plain": [
       "[10, 15, 14]"
      ]
     },
     "execution_count": 26,
     "metadata": {},
     "output_type": "execute_result"
    }
   ],
   "source": [
    "lista1"
   ]
  },
  {
   "cell_type": "code",
   "execution_count": 27,
   "id": "c5bfd65c",
   "metadata": {},
   "outputs": [],
   "source": [
    "valor1 = lista1[0]"
   ]
  },
  {
   "cell_type": "code",
   "execution_count": 28,
   "id": "284f25fc",
   "metadata": {},
   "outputs": [
    {
     "data": {
      "text/plain": [
       "10"
      ]
     },
     "execution_count": 28,
     "metadata": {},
     "output_type": "execute_result"
    }
   ],
   "source": [
    "valor1"
   ]
  },
  {
   "cell_type": "code",
   "execution_count": 29,
   "id": "6bcc4b66",
   "metadata": {},
   "outputs": [],
   "source": [
    "valor2 = lista1[2]"
   ]
  },
  {
   "cell_type": "code",
   "execution_count": 30,
   "id": "67a0271a",
   "metadata": {},
   "outputs": [
    {
     "data": {
      "text/plain": [
       "14"
      ]
     },
     "execution_count": 30,
     "metadata": {},
     "output_type": "execute_result"
    }
   ],
   "source": [
    "valor2"
   ]
  },
  {
   "cell_type": "markdown",
   "id": "be4c384a",
   "metadata": {},
   "source": [
    "### Operação com listas"
   ]
  },
  {
   "cell_type": "code",
   "execution_count": 32,
   "id": "0bd73ce3",
   "metadata": {},
   "outputs": [],
   "source": [
    "# Criando uma lista aninhada (lista de listas)\n",
    "listas = [[1, 2, 3], [10, 15, 14], [10.1, 8.7, 2.3]]"
   ]
  },
  {
   "cell_type": "code",
   "execution_count": 33,
   "id": "2d1815ea",
   "metadata": {},
   "outputs": [
    {
     "data": {
      "text/plain": [
       "[[1, 2, 3], [10, 15, 14], [10.1, 8.7, 2.3]]"
      ]
     },
     "execution_count": 33,
     "metadata": {},
     "output_type": "execute_result"
    }
   ],
   "source": [
    "listas"
   ]
  },
  {
   "cell_type": "code",
   "execution_count": 34,
   "id": "ac098e5c",
   "metadata": {},
   "outputs": [],
   "source": [
    "# Atribuindo à variável a o primeiro valor da primeira lista"
   ]
  },
  {
   "cell_type": "code",
   "execution_count": 35,
   "id": "13f4bc7c",
   "metadata": {},
   "outputs": [],
   "source": [
    "a = listas[0][0]"
   ]
  },
  {
   "cell_type": "code",
   "execution_count": 36,
   "id": "b6bbd236",
   "metadata": {},
   "outputs": [
    {
     "data": {
      "text/plain": [
       "1"
      ]
     },
     "execution_count": 36,
     "metadata": {},
     "output_type": "execute_result"
    }
   ],
   "source": [
    "a"
   ]
  },
  {
   "cell_type": "code",
   "execution_count": 37,
   "id": "cdb1a89c",
   "metadata": {},
   "outputs": [],
   "source": [
    "b = listas[1][2]"
   ]
  },
  {
   "cell_type": "code",
   "execution_count": 39,
   "id": "c8f943ad",
   "metadata": {},
   "outputs": [
    {
     "data": {
      "text/plain": [
       "14"
      ]
     },
     "execution_count": 39,
     "metadata": {},
     "output_type": "execute_result"
    }
   ],
   "source": [
    "b"
   ]
  },
  {
   "cell_type": "code",
   "execution_count": 40,
   "id": "469102f5",
   "metadata": {},
   "outputs": [],
   "source": [
    "c = listas[0][2] + 10"
   ]
  },
  {
   "cell_type": "code",
   "execution_count": 41,
   "id": "ccf12c54",
   "metadata": {},
   "outputs": [
    {
     "data": {
      "text/plain": [
       "13"
      ]
     },
     "execution_count": 41,
     "metadata": {},
     "output_type": "execute_result"
    }
   ],
   "source": [
    "c"
   ]
  },
  {
   "cell_type": "markdown",
   "id": "51cef643",
   "metadata": {},
   "source": [
    "### Concatenando listas"
   ]
  },
  {
   "cell_type": "code",
   "execution_count": 42,
   "id": "1338c474",
   "metadata": {},
   "outputs": [],
   "source": [
    "listas_s1 = [34, 32, 56]"
   ]
  },
  {
   "cell_type": "code",
   "execution_count": 43,
   "id": "54430f7b",
   "metadata": {},
   "outputs": [
    {
     "data": {
      "text/plain": [
       "[34, 32, 56]"
      ]
     },
     "execution_count": 43,
     "metadata": {},
     "output_type": "execute_result"
    }
   ],
   "source": [
    "listas_s1"
   ]
  },
  {
   "cell_type": "code",
   "execution_count": 44,
   "id": "41349a08",
   "metadata": {},
   "outputs": [],
   "source": [
    "listas_s2 = [21, 90, 51]"
   ]
  },
  {
   "cell_type": "code",
   "execution_count": 45,
   "id": "f5aa3c66",
   "metadata": {},
   "outputs": [
    {
     "data": {
      "text/plain": [
       "[21, 90, 51]"
      ]
     },
     "execution_count": 45,
     "metadata": {},
     "output_type": "execute_result"
    }
   ],
   "source": [
    "listas_s2 "
   ]
  },
  {
   "cell_type": "code",
   "execution_count": 46,
   "id": "647790c3",
   "metadata": {},
   "outputs": [],
   "source": [
    "# Concatenando listas\n",
    "lista_total = listas_s1 + listas_s2"
   ]
  },
  {
   "cell_type": "code",
   "execution_count": 47,
   "id": "a8808454",
   "metadata": {},
   "outputs": [
    {
     "data": {
      "text/plain": [
       "[34, 32, 56, 21, 90, 51]"
      ]
     },
     "execution_count": 47,
     "metadata": {},
     "output_type": "execute_result"
    }
   ],
   "source": [
    "lista_total"
   ]
  },
  {
   "cell_type": "markdown",
   "id": "541cd27a",
   "metadata": {},
   "source": [
    "### Operador in"
   ]
  },
  {
   "cell_type": "code",
   "execution_count": 49,
   "id": "050c586a",
   "metadata": {},
   "outputs": [],
   "source": [
    "# Criando uma lista\n",
    "lista_teste_op = [100, 2, -5, 3.4]"
   ]
  },
  {
   "cell_type": "code",
   "execution_count": 50,
   "id": "493a75c5",
   "metadata": {},
   "outputs": [
    {
     "name": "stdout",
     "output_type": "stream",
     "text": [
      "False\n"
     ]
    }
   ],
   "source": [
    "print(10 in lista_teste_op)"
   ]
  },
  {
   "cell_type": "code",
   "execution_count": 51,
   "id": "f6b25034",
   "metadata": {},
   "outputs": [
    {
     "name": "stdout",
     "output_type": "stream",
     "text": [
      "True\n"
     ]
    }
   ],
   "source": [
    "print(100 in lista_teste_op)"
   ]
  },
  {
   "cell_type": "markdown",
   "id": "df2106aa",
   "metadata": {},
   "source": [
    "### Funções built-in"
   ]
  },
  {
   "cell_type": "code",
   "execution_count": 52,
   "id": "301f533a",
   "metadata": {},
   "outputs": [],
   "source": [
    "lista_numeros = [10, 20, 50, -3, 4]"
   ]
  },
  {
   "cell_type": "code",
   "execution_count": 53,
   "id": "25a9cb57",
   "metadata": {},
   "outputs": [
    {
     "data": {
      "text/plain": [
       "5"
      ]
     },
     "execution_count": 53,
     "metadata": {},
     "output_type": "execute_result"
    }
   ],
   "source": [
    "# Função len() retorna com o comprimento da lista\n",
    "len(lista_numeros)"
   ]
  },
  {
   "cell_type": "code",
   "execution_count": 54,
   "id": "61fef8f5",
   "metadata": {},
   "outputs": [
    {
     "data": {
      "text/plain": [
       "50"
      ]
     },
     "execution_count": 54,
     "metadata": {},
     "output_type": "execute_result"
    }
   ],
   "source": [
    "# Função max() retorna com o valor máximo da lista\n",
    "max(lista_numeros)"
   ]
  },
  {
   "cell_type": "code",
   "execution_count": 55,
   "id": "903e8dce",
   "metadata": {},
   "outputs": [
    {
     "data": {
      "text/plain": [
       "-3"
      ]
     },
     "execution_count": 55,
     "metadata": {},
     "output_type": "execute_result"
    }
   ],
   "source": [
    "# Função min() retorna com o valor mínimo da lista\n",
    "min(lista_numeros)"
   ]
  },
  {
   "cell_type": "code",
   "execution_count": 56,
   "id": "96d421ff",
   "metadata": {},
   "outputs": [],
   "source": [
    "# Criando uma nova lista\n",
    "lista_formacoes_dsa = [\"Analista de Dados\", \"Cientista de Dados\", \"Engenheiro de Dados\"]"
   ]
  },
  {
   "cell_type": "code",
   "execution_count": 57,
   "id": "549fe6ef",
   "metadata": {},
   "outputs": [],
   "source": [
    "# Adicionando uim novo elemento a lista\n",
    "lista_formacoes_dsa.append(\"Engenheiro de IA\")"
   ]
  },
  {
   "cell_type": "code",
   "execution_count": 58,
   "id": "6ce4e36d",
   "metadata": {},
   "outputs": [
    {
     "data": {
      "text/plain": [
       "['Analista de Dados',\n",
       " 'Cientista de Dados',\n",
       " 'Engenheiro de Dados',\n",
       " 'Engenheiro de IA']"
      ]
     },
     "execution_count": 58,
     "metadata": {},
     "output_type": "execute_result"
    }
   ],
   "source": [
    "lista_formacoes_dsa"
   ]
  },
  {
   "cell_type": "code",
   "execution_count": 59,
   "id": "65966191",
   "metadata": {},
   "outputs": [
    {
     "data": {
      "text/plain": [
       "1"
      ]
     },
     "execution_count": 59,
     "metadata": {},
     "output_type": "execute_result"
    }
   ],
   "source": [
    "# Contagem de quantas vezes o elemento aparece na lista\n",
    "lista_formacoes_dsa.count(\"Engenheiro de Dados\")"
   ]
  },
  {
   "cell_type": "code",
   "execution_count": 60,
   "id": "ced194d5",
   "metadata": {},
   "outputs": [],
   "source": [
    "# Criando uma lista vazia\n",
    "a = []"
   ]
  },
  {
   "cell_type": "code",
   "execution_count": 61,
   "id": "3518e74c",
   "metadata": {},
   "outputs": [
    {
     "name": "stdout",
     "output_type": "stream",
     "text": [
      "[]\n"
     ]
    }
   ],
   "source": [
    "print(a)"
   ]
  },
  {
   "cell_type": "code",
   "execution_count": 62,
   "id": "871112f6",
   "metadata": {},
   "outputs": [
    {
     "data": {
      "text/plain": [
       "list"
      ]
     },
     "execution_count": 62,
     "metadata": {},
     "output_type": "execute_result"
    }
   ],
   "source": [
    "type(a)"
   ]
  },
  {
   "cell_type": "code",
   "execution_count": 63,
   "id": "1f962e05",
   "metadata": {},
   "outputs": [],
   "source": [
    "a.append(10)"
   ]
  },
  {
   "cell_type": "code",
   "execution_count": 64,
   "id": "bcd2577a",
   "metadata": {},
   "outputs": [
    {
     "data": {
      "text/plain": [
       "[10]"
      ]
     },
     "execution_count": 64,
     "metadata": {},
     "output_type": "execute_result"
    }
   ],
   "source": [
    "a"
   ]
  },
  {
   "cell_type": "code",
   "execution_count": 65,
   "id": "10ed4546",
   "metadata": {},
   "outputs": [],
   "source": [
    "a.append(50)"
   ]
  },
  {
   "cell_type": "code",
   "execution_count": 66,
   "id": "c4a73db8",
   "metadata": {},
   "outputs": [
    {
     "data": {
      "text/plain": [
       "[10, 50]"
      ]
     },
     "execution_count": 66,
     "metadata": {},
     "output_type": "execute_result"
    }
   ],
   "source": [
    "a"
   ]
  },
  {
   "cell_type": "code",
   "execution_count": 67,
   "id": "a6726140",
   "metadata": {},
   "outputs": [],
   "source": [
    "lista_velha = [1, 2, 3, 4, 5 ]"
   ]
  },
  {
   "cell_type": "code",
   "execution_count": 68,
   "id": "df80e543",
   "metadata": {},
   "outputs": [],
   "source": [
    "lista_nova = [ ]"
   ]
  },
  {
   "cell_type": "code",
   "execution_count": 69,
   "id": "ffe0e339",
   "metadata": {},
   "outputs": [],
   "source": [
    "# Copiando os itens de uma lista para outra\n",
    "for item in lista_velha:\n",
    "    lista_nova.append(item)"
   ]
  },
  {
   "cell_type": "code",
   "execution_count": 70,
   "id": "6d1ac570",
   "metadata": {},
   "outputs": [
    {
     "data": {
      "text/plain": [
       "[1, 2, 3, 4, 5]"
      ]
     },
     "execution_count": 70,
     "metadata": {},
     "output_type": "execute_result"
    }
   ],
   "source": [
    "lista_nova"
   ]
  },
  {
   "cell_type": "code",
   "execution_count": 71,
   "id": "ba6bc723",
   "metadata": {},
   "outputs": [
    {
     "name": "stdout",
     "output_type": "stream",
     "text": [
      "['Recife', 'Manaus', 'Salvador', 'Fortaleza', 'Palmas']\n"
     ]
    }
   ],
   "source": [
    "cidades = ['Recife', 'Manaus', 'Salvador']\n",
    "cidades.extend(['Fortaleza', 'Palmas'])\n",
    "print(cidades)"
   ]
  },
  {
   "cell_type": "code",
   "execution_count": 72,
   "id": "ff928e8a",
   "metadata": {},
   "outputs": [
    {
     "data": {
      "text/plain": [
       "2"
      ]
     },
     "execution_count": 72,
     "metadata": {},
     "output_type": "execute_result"
    }
   ],
   "source": [
    "cidades.index('Salvador')"
   ]
  },
  {
   "cell_type": "code",
   "execution_count": 73,
   "id": "bb6c0a65",
   "metadata": {},
   "outputs": [
    {
     "data": {
      "text/plain": [
       "['Recife', 'Manaus', 'Salvador', 'Fortaleza', 'Palmas']"
      ]
     },
     "execution_count": 73,
     "metadata": {},
     "output_type": "execute_result"
    }
   ],
   "source": [
    "cidades"
   ]
  },
  {
   "cell_type": "code",
   "execution_count": 75,
   "id": "b73b104d",
   "metadata": {},
   "outputs": [],
   "source": [
    "# Inserindo um valor no índice desejado\n",
    "cidades.insert(2, 110)"
   ]
  },
  {
   "cell_type": "code",
   "execution_count": 76,
   "id": "e241f685",
   "metadata": {},
   "outputs": [
    {
     "data": {
      "text/plain": [
       "['Recife', 'Manaus', 110, 110, 'Salvador', 'Fortaleza', 'Palmas']"
      ]
     },
     "execution_count": 76,
     "metadata": {},
     "output_type": "execute_result"
    }
   ],
   "source": [
    "cidades"
   ]
  },
  {
   "cell_type": "code",
   "execution_count": 78,
   "id": "0b7947ae",
   "metadata": {},
   "outputs": [],
   "source": [
    "# Removendo um item da lista\n",
    "cidades.remove(110)\n",
    "cidades.remove(110)"
   ]
  },
  {
   "cell_type": "code",
   "execution_count": 79,
   "id": "9c7ad65f",
   "metadata": {},
   "outputs": [
    {
     "data": {
      "text/plain": [
       "['Recife', 'Manaus', 'Salvador', 'Fortaleza', 'Palmas']"
      ]
     },
     "execution_count": 79,
     "metadata": {},
     "output_type": "execute_result"
    }
   ],
   "source": [
    "cidades"
   ]
  },
  {
   "cell_type": "code",
   "execution_count": 80,
   "id": "4004c1b6",
   "metadata": {},
   "outputs": [],
   "source": [
    "# Reverte a lista\n",
    "cidades.reverse()"
   ]
  },
  {
   "cell_type": "code",
   "execution_count": 81,
   "id": "68e1a9cd",
   "metadata": {},
   "outputs": [
    {
     "data": {
      "text/plain": [
       "['Palmas', 'Fortaleza', 'Salvador', 'Manaus', 'Recife']"
      ]
     },
     "execution_count": 81,
     "metadata": {},
     "output_type": "execute_result"
    }
   ],
   "source": [
    "cidades"
   ]
  },
  {
   "cell_type": "code",
   "execution_count": 82,
   "id": "7a029938",
   "metadata": {},
   "outputs": [],
   "source": [
    "x = [1, 5, 3, 4, 2, 8, 7, 6, 9]"
   ]
  },
  {
   "cell_type": "code",
   "execution_count": 84,
   "id": "d19ecb0f",
   "metadata": {},
   "outputs": [
    {
     "data": {
      "text/plain": [
       "[1, 2, 3, 4, 5, 6, 7, 8, 9]"
      ]
     },
     "execution_count": 84,
     "metadata": {},
     "output_type": "execute_result"
    }
   ],
   "source": [
    "x"
   ]
  },
  {
   "cell_type": "code",
   "execution_count": 85,
   "id": "c3858612",
   "metadata": {},
   "outputs": [],
   "source": [
    "# Ordena a lista\n",
    "x.sort()"
   ]
  },
  {
   "cell_type": "code",
   "execution_count": 86,
   "id": "1722a731",
   "metadata": {},
   "outputs": [
    {
     "data": {
      "text/plain": [
       "[1, 2, 3, 4, 5, 6, 7, 8, 9]"
      ]
     },
     "execution_count": 86,
     "metadata": {},
     "output_type": "execute_result"
    }
   ],
   "source": [
    "x"
   ]
  }
 ],
 "metadata": {
  "kernelspec": {
   "display_name": "Python 3 (ipykernel)",
   "language": "python",
   "name": "python3"
  },
  "language_info": {
   "codemirror_mode": {
    "name": "ipython",
    "version": 3
   },
   "file_extension": ".py",
   "mimetype": "text/x-python",
   "name": "python",
   "nbconvert_exporter": "python",
   "pygments_lexer": "ipython3",
   "version": "3.9.13"
  }
 },
 "nbformat": 4,
 "nbformat_minor": 5
}
