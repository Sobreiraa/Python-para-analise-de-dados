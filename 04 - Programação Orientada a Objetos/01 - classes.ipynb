{
 "cells": [
  {
   "cell_type": "markdown",
   "id": "66f45a24",
   "metadata": {},
   "source": [
    "## Programação Orientada a Objetos\n",
    "\n",
    "### Introdução à Programação Orientada a Objetos"
   ]
  },
  {
   "cell_type": "markdown",
   "id": "b362a446",
   "metadata": {},
   "source": [
    "### Classes "
   ]
  },
  {
   "cell_type": "markdown",
   "id": "9d000432",
   "metadata": {},
   "source": [
    "Em Programação Orientada a Objetos (POO), uma classe é uma estrutura que descreve um objeto, especificando os atributos e comportamentos que o objeto deve ter. Uma classe é uma espécie de modelo que define as características e ações que um ojbeto deve possuir.\n",
    "\n",
    "As classes são usadas para cirar objetos, que são instâncias da classe. Cada objeto criado a partir da mesma classe terá os mesmos atributos e comportamentos.\n",
    "\n",
    "Para criar uma classe em Python, utiliza-se a palavra reservada class."
   ]
  },
  {
   "cell_type": "code",
   "execution_count": 6,
   "id": "204c48eb",
   "metadata": {},
   "outputs": [],
   "source": [
    "# Criando uma classe chamada Livro.\n",
    "class Livro():\n",
    "    \n",
    "    # Este método vai inicializar cada objeto criada a partir desta classe\n",
    "    # self é uma referência a cada atributo da própria classe (e nao de uma classe mãe, por exemplo)\n",
    "    def __init__(self):\n",
    "        # Atributos são propriedades\n",
    "        self.titulo = 'Sapiens - Uma Breve História da Humanidade'\n",
    "        self.isbn = 998888\n",
    "        print(\"Construtor chamado para criar um objeto desta classe\")\n",
    "        \n",
    "    # Métodos são funções que executam ações nos objetos da classe\n",
    "    def imprime(self):\n",
    "        print(f\"Foi criado o livro '{self.titulo}' com ISBN {self.isbn}\")"
   ]
  },
  {
   "cell_type": "markdown",
   "id": "c475d9f0",
   "metadata": {},
   "source": [
    "Em Python, a palavra reservada self é uma referência ao objeto atual da classe. Quando um objeto é criado a partir de uma classe, self é utilizado para se referir a esse objeto específico. "
   ]
  },
  {
   "cell_type": "code",
   "execution_count": 7,
   "id": "1e6ef61d",
   "metadata": {},
   "outputs": [
    {
     "name": "stdout",
     "output_type": "stream",
     "text": [
      "Construtor chamado para criar um objeto desta classe\n"
     ]
    }
   ],
   "source": [
    "# Criando uma instância da classe Livro\n",
    "livro1 = Livro()"
   ]
  },
  {
   "cell_type": "code",
   "execution_count": 8,
   "id": "1738dfae",
   "metadata": {},
   "outputs": [
    {
     "data": {
      "text/plain": [
       "__main__.Livro"
      ]
     },
     "execution_count": 8,
     "metadata": {},
     "output_type": "execute_result"
    }
   ],
   "source": [
    "# O objeto livro1 é do tipo livro\n",
    "type(livro1)"
   ]
  },
  {
   "cell_type": "code",
   "execution_count": 9,
   "id": "d06013dc",
   "metadata": {},
   "outputs": [
    {
     "data": {
      "text/plain": [
       "'Sapiens - Uma Breve História da Humanidade'"
      ]
     },
     "execution_count": 9,
     "metadata": {},
     "output_type": "execute_result"
    }
   ],
   "source": [
    "# Atributo do objeto livro1\n",
    "livro1.titulo"
   ]
  },
  {
   "cell_type": "code",
   "execution_count": 10,
   "id": "c2d0168a",
   "metadata": {},
   "outputs": [
    {
     "name": "stdout",
     "output_type": "stream",
     "text": [
      "Foi criado o livro 'Sapiens - Uma Breve História da Humanidade' com ISBN 998888\n"
     ]
    }
   ],
   "source": [
    "# Método do objeto livro1\n",
    "livro1.imprime()"
   ]
  },
  {
   "cell_type": "code",
   "execution_count": 11,
   "id": "2dff7785",
   "metadata": {},
   "outputs": [],
   "source": [
    "# Criando a classe Livro com parãmetros no método construtor\n",
    "class Livro():\n",
    "    \n",
    "    def __init__(self, titulo, isbn):\n",
    "        self.titulo = titulo\n",
    "        self.isbn = isbn\n",
    "        print(\"Construtor chamado para criar um objeto desta classe\")\n",
    "        \n",
    "    def imprime(self, titulo, isbn):\n",
    "        print(f\"Esse é o livro {titulo} e ISBN {isbn}.\")"
   ]
  },
  {
   "cell_type": "code",
   "execution_count": 13,
   "id": "aca19d48",
   "metadata": {},
   "outputs": [
    {
     "name": "stdout",
     "output_type": "stream",
     "text": [
      "Construtor chamado para criar um objeto desta classe\n"
     ]
    }
   ],
   "source": [
    "# Criando o objeto livro2 que é uma instância da classe livro\n",
    "livro2 = Livro('O poder do Hábito', 7558)\n"
   ]
  },
  {
   "cell_type": "code",
   "execution_count": 15,
   "id": "ab137efd",
   "metadata": {},
   "outputs": [
    {
     "data": {
      "text/plain": [
       "'O poder do Hábito'"
      ]
     },
     "execution_count": 15,
     "metadata": {},
     "output_type": "execute_result"
    }
   ],
   "source": [
    "livro2.titulo"
   ]
  },
  {
   "cell_type": "code",
   "execution_count": 17,
   "id": "1e6bc729",
   "metadata": {},
   "outputs": [
    {
     "name": "stdout",
     "output_type": "stream",
     "text": [
      "Esse é o livro O poder do Hábito e ISBN 7558.\n"
     ]
    }
   ],
   "source": [
    "livro2.imprime('O poder do Hábito', 7558)"
   ]
  },
  {
   "cell_type": "code",
   "execution_count": 26,
   "id": "5555fd99",
   "metadata": {},
   "outputs": [],
   "source": [
    "# Criando a classe Algoritmo\n",
    "class Algoritmo():\n",
    "    \n",
    "    def __init__(self, tipo_algo):\n",
    "        self.tipo = tipo_algo\n",
    "        print(\"Construtor chamado para criar um objeto desta classe\")"
   ]
  },
  {
   "cell_type": "code",
   "execution_count": 27,
   "id": "f7249789",
   "metadata": {},
   "outputs": [
    {
     "name": "stdout",
     "output_type": "stream",
     "text": [
      "Construtor chamado para criar um objeto desta classe\n"
     ]
    }
   ],
   "source": [
    "# Criando um objeto a partir da classe\n",
    "algo1 = Algoritmo(tipo_algo = 'Random Forest')"
   ]
  },
  {
   "cell_type": "code",
   "execution_count": 28,
   "id": "108c3953",
   "metadata": {},
   "outputs": [
    {
     "name": "stdout",
     "output_type": "stream",
     "text": [
      "Construtor chamado para criar um objeto desta classe\n"
     ]
    }
   ],
   "source": [
    "algo2 = Algoritmo('Deep Learning')"
   ]
  },
  {
   "cell_type": "code",
   "execution_count": 29,
   "id": "87fe7ea4",
   "metadata": {},
   "outputs": [
    {
     "data": {
      "text/plain": [
       "'Random Forest'"
      ]
     },
     "execution_count": 29,
     "metadata": {},
     "output_type": "execute_result"
    }
   ],
   "source": [
    "# Atributo da classe\n",
    "algo1.tipo"
   ]
  },
  {
   "cell_type": "code",
   "execution_count": 30,
   "id": "efe79b2e",
   "metadata": {},
   "outputs": [
    {
     "data": {
      "text/plain": [
       "'Deep Learning'"
      ]
     },
     "execution_count": 30,
     "metadata": {},
     "output_type": "execute_result"
    }
   ],
   "source": [
    "# Atributo da classe\n",
    "algo2.tipo"
   ]
  }
 ],
 "metadata": {
  "kernelspec": {
   "display_name": "Python 3 (ipykernel)",
   "language": "python",
   "name": "python3"
  },
  "language_info": {
   "codemirror_mode": {
    "name": "ipython",
    "version": 3
   },
   "file_extension": ".py",
   "mimetype": "text/x-python",
   "name": "python",
   "nbconvert_exporter": "python",
   "pygments_lexer": "ipython3",
   "version": "3.9.13"
  }
 },
 "nbformat": 4,
 "nbformat_minor": 5
}
