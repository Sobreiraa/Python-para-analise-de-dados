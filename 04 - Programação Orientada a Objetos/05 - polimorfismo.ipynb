{
 "cells": [
  {
   "cell_type": "markdown",
   "id": "90db798d",
   "metadata": {},
   "source": [
    "## Programação Orientada a Objetos\n",
    "\n",
    "### Polimorfismo"
   ]
  },
  {
   "cell_type": "markdown",
   "id": "843c06f4",
   "metadata": {},
   "source": [
    "### Trabalhando com Polimorfismo de Classes em Python"
   ]
  },
  {
   "cell_type": "markdown",
   "id": "b24f1fa6",
   "metadata": {},
   "source": [
    "Polimorfismo é um dos conceitos fundamentais da POO. O polimorfismo permite que objetos de diferentes classes possam ser tratados de forma uniforme. Isso significa que um objeto pode ser tratado como se fosse um objeto de uma superclasse, mesmo que ele seja de uma subclasse.\n",
    "\n",
    "Mais especificamente, o polimorfismo se refere à habilidade de um objeto responder de diferentes formas a uma mesma mensagem. Isso é possível porque as subclasses podem implementar métodos com o mesmo nome que os métodos da superclasse, mas com comportamentos diferentes.\n",
    "\n",
    "Com o Polimorfismo, os mesmos atributos e métodos podem ser utilizados em objetos distintos, porém, com implementações lógicas diferentes."
   ]
  },
  {
   "cell_type": "code",
   "execution_count": 11,
   "id": "b3ede723",
   "metadata": {},
   "outputs": [],
   "source": [
    "# Superclasse\n",
    "class Veiculo:\n",
    "    \n",
    "    def __init__(self, marca, modelo):\n",
    "        self.marca = marca\n",
    "        self.modelo = modelo\n",
    "        \n",
    "    def acelerar(self):\n",
    "        pass\n",
    "\n",
    "    def frear(self):\n",
    "        pass"
   ]
  },
  {
   "cell_type": "code",
   "execution_count": 12,
   "id": "7099efc9",
   "metadata": {},
   "outputs": [],
   "source": [
    "# Subclasse\n",
    "class Carro(Veiculo):\n",
    "    \n",
    "    def acelerar(self):\n",
    "        print('O carro está acelerando.')\n",
    "        \n",
    "    def frear(self):\n",
    "        print('O carro está freiando.')"
   ]
  },
  {
   "cell_type": "code",
   "execution_count": 13,
   "id": "8fe6906c",
   "metadata": {},
   "outputs": [],
   "source": [
    "# Subclasse\n",
    "class Moto(Veiculo):\n",
    "    \n",
    "    def acelerar(self):\n",
    "        print('A moto está acelerando.')\n",
    "\n",
    "    def frear(self):\n",
    "        print('A moto está freiando.')"
   ]
  },
  {
   "cell_type": "code",
   "execution_count": 14,
   "id": "cc7f1180",
   "metadata": {},
   "outputs": [],
   "source": [
    "# Subclasse\n",
    "class Aviao(Veiculo):\n",
    "    \n",
    "    def acelerar(self):\n",
    "        print('O avião está acelerando.')\n",
    "\n",
    "    def frear(self):\n",
    "        print('O avião está freiando.')\n",
    "\n",
    "    def decolar(self):\n",
    "        print('O avião está decolando.')"
   ]
  },
  {
   "cell_type": "code",
   "execution_count": 15,
   "id": "8e17c554",
   "metadata": {},
   "outputs": [],
   "source": [
    "# Criando os objetos\n",
    "lista_veiculos = [Carro('Porsche', '911 Turbo'), Moto('Honda', 'CB 1000R Black Edition'), Aviao('Boeing', '757')]"
   ]
  },
  {
   "cell_type": "code",
   "execution_count": 16,
   "id": "04130f15",
   "metadata": {},
   "outputs": [
    {
     "name": "stdout",
     "output_type": "stream",
     "text": [
      "O carro está acelerando.\n",
      "O carro está freiando.\n",
      "A moto está acelerando.\n",
      "A moto está freiando.\n",
      "O avião está acelerando.\n",
      "O avião está freiando.\n",
      "O avião está decolando.\n"
     ]
    }
   ],
   "source": [
    "# Loop\n",
    "for item in lista_veiculos:\n",
    "    \n",
    "    # O método acelerar tem comportamento diferente dependendo do tipo de objeto\n",
    "    item.acelerar()\n",
    "    \n",
    "    # O método frear tem comportamento diferente dependendo do tipo de objeto\n",
    "    item.frear()\n",
    "    \n",
    "    # Executamos o método decolar somente se o objeto for instância da classe Aviao\n",
    "    if isinstance(item, Aviao):\n",
    "        item.decolar()"
   ]
  },
  {
   "cell_type": "code",
   "execution_count": null,
   "id": "88f4e5d9",
   "metadata": {},
   "outputs": [],
   "source": []
  }
 ],
 "metadata": {
  "kernelspec": {
   "display_name": "Python 3 (ipykernel)",
   "language": "python",
   "name": "python3"
  },
  "language_info": {
   "codemirror_mode": {
    "name": "ipython",
    "version": 3
   },
   "file_extension": ".py",
   "mimetype": "text/x-python",
   "name": "python",
   "nbconvert_exporter": "python",
   "pygments_lexer": "ipython3",
   "version": "3.9.13"
  }
 },
 "nbformat": 4,
 "nbformat_minor": 5
}
