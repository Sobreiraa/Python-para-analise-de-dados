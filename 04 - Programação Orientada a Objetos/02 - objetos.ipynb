{
 "cells": [
  {
   "cell_type": "markdown",
   "id": "034487d3",
   "metadata": {},
   "source": [
    "## Programação Orientada a Objetos\n",
    "\n",
    "### Objetos"
   ]
  },
  {
   "cell_type": "markdown",
   "id": "37b4482f",
   "metadata": {},
   "source": [
    "Em Python, tudo é um objeto."
   ]
  },
  {
   "cell_type": "code",
   "execution_count": 1,
   "id": "34aaf182",
   "metadata": {},
   "outputs": [],
   "source": [
    "# Criando uma lista \n",
    "lista = ['Data', 'Science', 'Academy', 'Nota', 10, 10]"
   ]
  },
  {
   "cell_type": "code",
   "execution_count": 2,
   "id": "d52e4f99",
   "metadata": {},
   "outputs": [
    {
     "data": {
      "text/plain": [
       "list"
      ]
     },
     "execution_count": 2,
     "metadata": {},
     "output_type": "execute_result"
    }
   ],
   "source": [
    "type(lista)"
   ]
  },
  {
   "cell_type": "code",
   "execution_count": 3,
   "id": "fbd5c6dc",
   "metadata": {},
   "outputs": [
    {
     "name": "stdout",
     "output_type": "stream",
     "text": [
      "<class 'list'>\n"
     ]
    }
   ],
   "source": [
    "print(type([]))"
   ]
  },
  {
   "cell_type": "code",
   "execution_count": 4,
   "id": "e09bd99f",
   "metadata": {},
   "outputs": [
    {
     "data": {
      "text/plain": [
       "2"
      ]
     },
     "execution_count": 4,
     "metadata": {},
     "output_type": "execute_result"
    }
   ],
   "source": [
    "lista.count(10)"
   ]
  },
  {
   "cell_type": "code",
   "execution_count": 5,
   "id": "9ac9eea9",
   "metadata": {},
   "outputs": [
    {
     "name": "stdout",
     "output_type": "stream",
     "text": [
      "<class 'int'>\n",
      "<class 'list'>\n",
      "<class 'tuple'>\n",
      "<class 'dict'>\n",
      "<class 'str'>\n"
     ]
    }
   ],
   "source": [
    "# Usando a função type, para verificar o tipo de um objeto\n",
    "print(type(10))\n",
    "print(type([]))\n",
    "print(type(()))\n",
    "print(type({}))\n",
    "print(type('a'))"
   ]
  },
  {
   "cell_type": "code",
   "execution_count": 6,
   "id": "20aa576a",
   "metadata": {},
   "outputs": [],
   "source": [
    "# Criando um novo tipo de objeto chamado carro\n",
    "class Carro():\n",
    "    pass"
   ]
  },
  {
   "cell_type": "code",
   "execution_count": 7,
   "id": "65f09712",
   "metadata": {},
   "outputs": [],
   "source": [
    "ferrari = Carro()"
   ]
  },
  {
   "cell_type": "code",
   "execution_count": 9,
   "id": "9911e341",
   "metadata": {},
   "outputs": [
    {
     "name": "stdout",
     "output_type": "stream",
     "text": [
      "<class '__main__.Carro'>\n"
     ]
    }
   ],
   "source": [
    "print(type(ferrari))"
   ]
  },
  {
   "cell_type": "code",
   "execution_count": 10,
   "id": "5f969139",
   "metadata": {},
   "outputs": [],
   "source": [
    "# Criando uma classe\n",
    "class Estudantes():\n",
    "    def __init__(self, nome, idade, nota):\n",
    "        self.nome = nome\n",
    "        self.idade = idade\n",
    "        self.nota = nota"
   ]
  },
  {
   "cell_type": "code",
   "execution_count": 13,
   "id": "3f3babaf",
   "metadata": {},
   "outputs": [],
   "source": [
    "estudante1 = Estudantes('Matheus', 23, 10)"
   ]
  },
  {
   "cell_type": "code",
   "execution_count": 17,
   "id": "8cf30d94",
   "metadata": {},
   "outputs": [
    {
     "name": "stdout",
     "output_type": "stream",
     "text": [
      "Matheus\n",
      "23\n",
      "10\n"
     ]
    }
   ],
   "source": [
    "# Atributo da classe estudante, utilizado por cada objeto criado a a partir dessa classe\n",
    "print(estudante1.nome)\n",
    "print(estudante1.idade)\n",
    "print(estudante1.nota)"
   ]
  },
  {
   "cell_type": "code",
   "execution_count": 25,
   "id": "e83fbc85",
   "metadata": {},
   "outputs": [],
   "source": [
    "# Criando outra classe\n",
    "class Funcionarios():\n",
    "    def __init__(self, nome, salario, cargo):\n",
    "        self.nome = nome\n",
    "        self.salario = salario\n",
    "        self.cargo = cargo\n",
    "    \n",
    "    def lista_func(self):\n",
    "        print(f'Funcionário(a) {self.nome} tem o salário de R$ {self.salario} e o cargo de {self.cargo}.')"
   ]
  },
  {
   "cell_type": "code",
   "execution_count": 26,
   "id": "74de1f69",
   "metadata": {},
   "outputs": [],
   "source": [
    "# Criando um objeto chamado func a partir da classe funcionarios\n",
    "func1 = Funcionarios(\"Mary\", 20000, \"Cientista de Dados\")"
   ]
  },
  {
   "cell_type": "code",
   "execution_count": 27,
   "id": "a4b69733",
   "metadata": {},
   "outputs": [
    {
     "name": "stdout",
     "output_type": "stream",
     "text": [
      "Funcionário(a) Mary tem o salário de R$ 20000 e o cargo de Cientista de Dados.\n"
     ]
    }
   ],
   "source": [
    "func1.lista_func()"
   ]
  },
  {
   "cell_type": "code",
   "execution_count": 28,
   "id": "19ee3a1b",
   "metadata": {},
   "outputs": [
    {
     "name": "stdout",
     "output_type": "stream",
     "text": [
      "*** Usando Atributos ***\n"
     ]
    }
   ],
   "source": [
    "print(\"*** Usando Atributos ***\")"
   ]
  },
  {
   "cell_type": "code",
   "execution_count": 29,
   "id": "2e042fa7",
   "metadata": {},
   "outputs": [
    {
     "data": {
      "text/plain": [
       "True"
      ]
     },
     "execution_count": 29,
     "metadata": {},
     "output_type": "execute_result"
    }
   ],
   "source": [
    "hasattr(func1, \"nome\")"
   ]
  },
  {
   "cell_type": "code",
   "execution_count": 30,
   "id": "175d060a",
   "metadata": {},
   "outputs": [
    {
     "data": {
      "text/plain": [
       "True"
      ]
     },
     "execution_count": 30,
     "metadata": {},
     "output_type": "execute_result"
    }
   ],
   "source": [
    "hasattr(func1, \"salario\")"
   ]
  },
  {
   "cell_type": "code",
   "execution_count": 32,
   "id": "a0c0734b",
   "metadata": {},
   "outputs": [],
   "source": [
    "setattr(func1, \"salario\", 4500)"
   ]
  },
  {
   "cell_type": "code",
   "execution_count": 33,
   "id": "ecbf3383",
   "metadata": {},
   "outputs": [
    {
     "data": {
      "text/plain": [
       "True"
      ]
     },
     "execution_count": 33,
     "metadata": {},
     "output_type": "execute_result"
    }
   ],
   "source": [
    "hasattr(func1, \"salario\")"
   ]
  },
  {
   "cell_type": "code",
   "execution_count": 34,
   "id": "2feb1ea7",
   "metadata": {},
   "outputs": [
    {
     "data": {
      "text/plain": [
       "4500"
      ]
     },
     "execution_count": 34,
     "metadata": {},
     "output_type": "execute_result"
    }
   ],
   "source": [
    "getattr(func1, \"salario\")"
   ]
  },
  {
   "cell_type": "code",
   "execution_count": 35,
   "id": "5c629573",
   "metadata": {},
   "outputs": [],
   "source": [
    "delattr(func1, \"salario\")"
   ]
  },
  {
   "cell_type": "code",
   "execution_count": 36,
   "id": "d87a68b1",
   "metadata": {},
   "outputs": [
    {
     "data": {
      "text/plain": [
       "False"
      ]
     },
     "execution_count": 36,
     "metadata": {},
     "output_type": "execute_result"
    }
   ],
   "source": [
    "hasattr(func1, \"salario\")"
   ]
  }
 ],
 "metadata": {
  "kernelspec": {
   "display_name": "Python 3 (ipykernel)",
   "language": "python",
   "name": "python3"
  },
  "language_info": {
   "codemirror_mode": {
    "name": "ipython",
    "version": 3
   },
   "file_extension": ".py",
   "mimetype": "text/x-python",
   "name": "python",
   "nbconvert_exporter": "python",
   "pygments_lexer": "ipython3",
   "version": "3.9.13"
  }
 },
 "nbformat": 4,
 "nbformat_minor": 5
}
