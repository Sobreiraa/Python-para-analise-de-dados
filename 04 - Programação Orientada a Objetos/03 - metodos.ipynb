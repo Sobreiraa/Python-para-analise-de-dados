{
 "cells": [
  {
   "cell_type": "markdown",
   "id": "e6e77b29",
   "metadata": {},
   "source": [
    "## Programação Orientada a Objetos\n",
    "\n",
    "### Métodos"
   ]
  },
  {
   "cell_type": "markdown",
   "id": "db6fe9b1",
   "metadata": {},
   "source": [
    "### Trabalhando com Métodos de Classe em Python.\n",
    "\n",
    "Em Python, os métodos de classes são funções definidas dentro de uma classe, que realizam operações específicas em objetos criados a partir dessa classe. Os métodos de classes são usados para implementar o comportamento dos objetos que pertencem a essa classe.\n",
    "\n",
    "Assim como as funções em Python, os métodos de classes podem receber argumentos e retornar valores. No entanto, diferentemente das funções normais, os métodos de classes sempre incluem o parâmetro self como primeiro argumento, que é usado para se referir ao objeto atual da classe.\n",
    "\n",
    "O método **init** é um método especial que é chamado quando um objeto é criado a partir da classe. Esse método é usado para inicializar os atributos do objeto. Outros métodos podem ser definidos para executar tarefas em um objeto, como calcular valores, realizar operações de entrada e saída, ou alterar o estado do objeto."
   ]
  },
  {
   "cell_type": "code",
   "execution_count": 2,
   "id": "ee10a944",
   "metadata": {},
   "outputs": [],
   "source": [
    "# Criando uma classe chamada Circulo\n",
    "class Circulo():\n",
    "    \n",
    "    # O valor de pi é constante \n",
    "    pi = 3.14\n",
    "    \n",
    "    # Quando um objeto desta classe for criado, este método será executado\n",
    "    def __init__(self, raio=5):\n",
    "        self.raio = raio\n",
    "        \n",
    "    # Esse método calcula a área.\n",
    "    def area(self):\n",
    "        return (self.raio * self.raio) * Circulo.pi\n",
    "    \n",
    "    # Método para gerar um novo raio\n",
    "    def set_raio(self, novo_raio):\n",
    "        self.raio = novo_raio\n",
    "        \n",
    "    # Método para obter o raio do círculo\n",
    "    def get_raio(self):\n",
    "        return self.raio"
   ]
  },
  {
   "cell_type": "code",
   "execution_count": 4,
   "id": "5118d1bc",
   "metadata": {},
   "outputs": [],
   "source": [
    "# Criando o objeto circ, uma instância da classe Circulo()\n",
    "circ = Circulo()"
   ]
  },
  {
   "cell_type": "code",
   "execution_count": 5,
   "id": "7e78df5a",
   "metadata": {},
   "outputs": [
    {
     "data": {
      "text/plain": [
       "5"
      ]
     },
     "execution_count": 5,
     "metadata": {},
     "output_type": "execute_result"
    }
   ],
   "source": [
    "# Executando um método da classe Circulo()\n",
    "circ.get_raio()"
   ]
  },
  {
   "cell_type": "code",
   "execution_count": 8,
   "id": "d10cf4e7",
   "metadata": {},
   "outputs": [
    {
     "name": "stdout",
     "output_type": "stream",
     "text": [
      "O raio é: 5\n"
     ]
    }
   ],
   "source": [
    "# Imprimindo o raio\n",
    "print(f'O raio é: {circ.get_raio()}')"
   ]
  },
  {
   "cell_type": "code",
   "execution_count": 9,
   "id": "3c1ca593",
   "metadata": {},
   "outputs": [],
   "source": [
    "circ1 = Circulo(7)"
   ]
  },
  {
   "cell_type": "code",
   "execution_count": 11,
   "id": "fdc3cd48",
   "metadata": {},
   "outputs": [
    {
     "data": {
      "text/plain": [
       "7"
      ]
     },
     "execution_count": 11,
     "metadata": {},
     "output_type": "execute_result"
    }
   ],
   "source": [
    "# Executando um método da classe Circulo()\n",
    "circ1.get_raio()"
   ]
  },
  {
   "cell_type": "code",
   "execution_count": 13,
   "id": "17787bb8",
   "metadata": {},
   "outputs": [
    {
     "name": "stdout",
     "output_type": "stream",
     "text": [
      "Área igual a: 78.5\n"
     ]
    }
   ],
   "source": [
    "# Imprimindo a area\n",
    "print(f'Área igual a: {circ.area()}')"
   ]
  },
  {
   "cell_type": "code",
   "execution_count": 14,
   "id": "875026bb",
   "metadata": {},
   "outputs": [],
   "source": [
    "# Gerando um novo valor para o raio do círculo\n",
    "circ.set_raio(3)"
   ]
  },
  {
   "cell_type": "code",
   "execution_count": 15,
   "id": "0d365148",
   "metadata": {},
   "outputs": [
    {
     "data": {
      "text/plain": [
       "3"
      ]
     },
     "execution_count": 15,
     "metadata": {},
     "output_type": "execute_result"
    }
   ],
   "source": [
    "# Executando um método da classe Circulo()\n",
    "circ.get_raio()"
   ]
  }
 ],
 "metadata": {
  "kernelspec": {
   "display_name": "Python 3 (ipykernel)",
   "language": "python",
   "name": "python3"
  },
  "language_info": {
   "codemirror_mode": {
    "name": "ipython",
    "version": 3
   },
   "file_extension": ".py",
   "mimetype": "text/x-python",
   "name": "python",
   "nbconvert_exporter": "python",
   "pygments_lexer": "ipython3",
   "version": "3.9.13"
  }
 },
 "nbformat": 4,
 "nbformat_minor": 5
}
