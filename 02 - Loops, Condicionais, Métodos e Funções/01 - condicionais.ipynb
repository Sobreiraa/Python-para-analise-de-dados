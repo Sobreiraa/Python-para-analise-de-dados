{
 "cells": [
  {
   "cell_type": "markdown",
   "id": "305d6f8b",
   "metadata": {},
   "source": [
    "### Loops, Condicionais, Métodos e Funções\n",
    "\n",
    "## Condicionais"
   ]
  },
  {
   "cell_type": "markdown",
   "id": "b31134cd",
   "metadata": {},
   "source": [
    "### Condicional if"
   ]
  },
  {
   "cell_type": "code",
   "execution_count": 1,
   "id": "3fd69ac4",
   "metadata": {},
   "outputs": [
    {
     "name": "stdout",
     "output_type": "stream",
     "text": [
      "A sentença é verdadeira!\n"
     ]
    }
   ],
   "source": [
    "# Condicional IF\n",
    "if 5 > 2:\n",
    "    print('A sentença é verdadeira!')"
   ]
  },
  {
   "cell_type": "code",
   "execution_count": 3,
   "id": "c9d7237c",
   "metadata": {},
   "outputs": [
    {
     "name": "stdout",
     "output_type": "stream",
     "text": [
      "A sentença é falsa!\n"
     ]
    }
   ],
   "source": [
    "# Condicional IF...ELSE\n",
    "if 5 < 2:\n",
    "    print('A sentença é verdadeira!')\n",
    "else:\n",
    "    print('A sentença é falsa!')"
   ]
  },
  {
   "cell_type": "code",
   "execution_count": 5,
   "id": "e87a5a5a",
   "metadata": {},
   "outputs": [
    {
     "name": "stdout",
     "output_type": "stream",
     "text": [
      "Hoje fará sol!\n"
     ]
    }
   ],
   "source": [
    "# Condiciona IF...ELSE com variável\n",
    "dia = \"Terça\"\n",
    "if dia == \"Terça\":\n",
    "    print('Hoje fará sol!')\n",
    "else:\n",
    "    print('Hoje vai chover!')"
   ]
  },
  {
   "cell_type": "code",
   "execution_count": 8,
   "id": "f46c9f04",
   "metadata": {},
   "outputs": [
    {
     "name": "stdout",
     "output_type": "stream",
     "text": [
      "Hoje será nublado!\n"
     ]
    }
   ],
   "source": [
    "# Podemos usar  o operador ELIF Para validar mais de uma condição\n",
    "if dia == \"Segunda\":\n",
    "    print('Hoje fará sol!')\n",
    "elif dia == \"Terça\":\n",
    "    print('Hoje será nublado!')\n",
    "else:\n",
    "    print('Hoje irá chover!')"
   ]
  },
  {
   "cell_type": "markdown",
   "id": "f0c37fcc",
   "metadata": {},
   "source": [
    "### Operadores relacionais\n",
    "\n",
    "Retorna um valor booleano."
   ]
  },
  {
   "cell_type": "code",
   "execution_count": 9,
   "id": "1d9751df",
   "metadata": {},
   "outputs": [
    {
     "data": {
      "text/plain": [
       "True"
      ]
     },
     "execution_count": 9,
     "metadata": {},
     "output_type": "execute_result"
    }
   ],
   "source": [
    "6 > 3"
   ]
  },
  {
   "cell_type": "code",
   "execution_count": 10,
   "id": "3d36919d",
   "metadata": {},
   "outputs": [
    {
     "data": {
      "text/plain": [
       "False"
      ]
     },
     "execution_count": 10,
     "metadata": {},
     "output_type": "execute_result"
    }
   ],
   "source": [
    "3 > 7 "
   ]
  },
  {
   "cell_type": "code",
   "execution_count": 11,
   "id": "f3697034",
   "metadata": {},
   "outputs": [
    {
     "data": {
      "text/plain": [
       "True"
      ]
     },
     "execution_count": 11,
     "metadata": {},
     "output_type": "execute_result"
    }
   ],
   "source": [
    "4 < 8"
   ]
  },
  {
   "cell_type": "code",
   "execution_count": 12,
   "id": "1194cc97",
   "metadata": {},
   "outputs": [
    {
     "data": {
      "text/plain": [
       "False"
      ]
     },
     "execution_count": 12,
     "metadata": {},
     "output_type": "execute_result"
    }
   ],
   "source": [
    "4 >= 8"
   ]
  },
  {
   "cell_type": "code",
   "execution_count": 13,
   "id": "37c398c1",
   "metadata": {},
   "outputs": [
    {
     "data": {
      "text/plain": [
       "True"
      ]
     },
     "execution_count": 13,
     "metadata": {},
     "output_type": "execute_result"
    }
   ],
   "source": [
    "4 >= 4"
   ]
  },
  {
   "cell_type": "code",
   "execution_count": 14,
   "id": "885ee29b",
   "metadata": {},
   "outputs": [
    {
     "name": "stdout",
     "output_type": "stream",
     "text": [
      "Testando Python!\n"
     ]
    }
   ],
   "source": [
    "if 5 == 5:\n",
    "    print('Testando Python!')"
   ]
  },
  {
   "cell_type": "code",
   "execution_count": 15,
   "id": "696f3d46",
   "metadata": {},
   "outputs": [
    {
     "name": "stdout",
     "output_type": "stream",
     "text": [
      "Testando\n"
     ]
    }
   ],
   "source": [
    "if True:\n",
    "    print('Testando')"
   ]
  },
  {
   "cell_type": "markdown",
   "id": "df2484d4",
   "metadata": {},
   "source": [
    "### Condicionais aninhados"
   ]
  },
  {
   "cell_type": "code",
   "execution_count": 16,
   "id": "d5974dc2",
   "metadata": {},
   "outputs": [],
   "source": [
    "idade = 18\n",
    "nome = 'Bob'"
   ]
  },
  {
   "cell_type": "code",
   "execution_count": 17,
   "id": "feb903c9",
   "metadata": {},
   "outputs": [
    {
     "name": "stdout",
     "output_type": "stream",
     "text": [
      "Você pode dirigir!\n"
     ]
    }
   ],
   "source": [
    "# Condicional simples\n",
    "if idade >= 18:\n",
    "    print('Você pode dirigir!')"
   ]
  },
  {
   "cell_type": "code",
   "execution_count": 18,
   "id": "bad5f922",
   "metadata": {},
   "outputs": [
    {
     "name": "stdout",
     "output_type": "stream",
     "text": [
      "Ok Bob, você está autorizado a entrar!\n"
     ]
    }
   ],
   "source": [
    "if idade > 13:\n",
    "    if nome == \"Bob\":\n",
    "        print('Ok Bob, você está autorizado a entrar!')\n",
    "    else:\n",
    "        print('Desculpe, você não está autorizado!')"
   ]
  },
  {
   "cell_type": "code",
   "execution_count": 19,
   "id": "ad32dc60",
   "metadata": {},
   "outputs": [
    {
     "name": "stdout",
     "output_type": "stream",
     "text": [
      "Ok Bob, você está autorizado a entrar!\n"
     ]
    }
   ],
   "source": [
    "if idade > 13 and nome == \"Bob\":\n",
    "    print('Ok Bob, você está autorizado a entrar!')"
   ]
  },
  {
   "cell_type": "code",
   "execution_count": 20,
   "id": "d1a8656a",
   "metadata": {},
   "outputs": [
    {
     "name": "stdout",
     "output_type": "stream",
     "text": [
      "Ok Bob, você está autorizado a entrar!\n"
     ]
    }
   ],
   "source": [
    "if (idade >= 18) or (nome == \"Bob\"):\n",
    "    print('Ok Bob, você está autorizado a entrar!')"
   ]
  },
  {
   "cell_type": "markdown",
   "id": "572df498",
   "metadata": {},
   "source": [
    "### Operadores lógicos"
   ]
  },
  {
   "cell_type": "markdown",
   "id": "985ecb90",
   "metadata": {},
   "source": [
    "Os operadores lógicos funcionam assim:\n",
    "\n",
    "* Operador **and** - Retorna True se ambas as declarações forem verdadeiras.\n",
    "* Operador **or** - Retorna True se uma das declarações for verdadeira.\n",
    "* Operador **not** - Inverte o resultado, retorna False se o resultado for True."
   ]
  },
  {
   "cell_type": "markdown",
   "id": "3f2ca10a",
   "metadata": {},
   "source": [
    "###### Operador and"
   ]
  },
  {
   "cell_type": "code",
   "execution_count": 21,
   "id": "a68d3ce4",
   "metadata": {},
   "outputs": [
    {
     "name": "stdout",
     "output_type": "stream",
     "text": [
      "Isso está sendo impresso porque as duas condições são verdadeiras!\n"
     ]
    }
   ],
   "source": [
    "numero = 4\n",
    "\n",
    "if (numero > 2) and (numero % 2 == 0):\n",
    "    print('Isso está sendo impresso porque as duas condições são verdadeiras!')"
   ]
  },
  {
   "cell_type": "code",
   "execution_count": 22,
   "id": "d81036b6",
   "metadata": {},
   "outputs": [
    {
     "name": "stdout",
     "output_type": "stream",
     "text": [
      "Isso está sendo impresso porque uma das duas condições é falsa\n"
     ]
    }
   ],
   "source": [
    "if (numero > 5) and (numero % 2 == 0):\n",
    "    print('Isso está sendo impresso porque as duas condições são verdadeiras!')\n",
    "else:\n",
    "    print('Isso está sendo impresso porque uma das duas condições é falsa')"
   ]
  },
  {
   "cell_type": "markdown",
   "id": "a7b6840c",
   "metadata": {},
   "source": [
    "###### Operador or"
   ]
  },
  {
   "cell_type": "code",
   "execution_count": 23,
   "id": "ac6bf722",
   "metadata": {},
   "outputs": [
    {
     "name": "stdout",
     "output_type": "stream",
     "text": [
      "Isso está sendo impresso porque as duas condições são verdadeiras!\n"
     ]
    }
   ],
   "source": [
    "numero = 4\n",
    "\n",
    "if (numero > 5) or (numero % 2 == 0):\n",
    "    print('Isso está sendo impresso porque as duas condições são verdadeiras!')\n",
    "else:\n",
    "    print('Isso está sendo impresso porque uma das duas condições é verdadeira!')"
   ]
  },
  {
   "cell_type": "code",
   "execution_count": 24,
   "id": "66a3dedc",
   "metadata": {},
   "outputs": [
    {
     "name": "stdout",
     "output_type": "stream",
     "text": [
      "Isso está sendo impresso porque uma das duas condições são verdadeiras!\n"
     ]
    }
   ],
   "source": [
    "numero = 4\n",
    "\n",
    "if (numero > 5) or (numero % 2 == 0):\n",
    "    print('Isso está sendo impresso porque uma das duas condições são verdadeiras!')"
   ]
  },
  {
   "cell_type": "markdown",
   "id": "f6ff800a",
   "metadata": {},
   "source": [
    "###### Operador not"
   ]
  },
  {
   "cell_type": "code",
   "execution_count": 25,
   "id": "bfc2607c",
   "metadata": {},
   "outputs": [
    {
     "name": "stdout",
     "output_type": "stream",
     "text": [
      "Isso está sendo impresso porque as duas condições são verdadeiras!\n"
     ]
    }
   ],
   "source": [
    "numero = 4\n",
    "\n",
    "if not(numero > 5) and (numero % 2 == 0):\n",
    "    print('Isso está sendo impresso porque as duas condições são verdadeiras!')\n",
    "else:\n",
    "    print('Isso está sendo impresso porque uma das duas condições é falsa!')"
   ]
  },
  {
   "cell_type": "markdown",
   "id": "e2a868f5",
   "metadata": {},
   "source": [
    "###### Exemplo com o uso de variáveis"
   ]
  },
  {
   "cell_type": "code",
   "execution_count": 28,
   "id": "07f9cd8d",
   "metadata": {},
   "outputs": [
    {
     "name": "stdout",
     "output_type": "stream",
     "text": [
      "Aprovado!\n"
     ]
    }
   ],
   "source": [
    "disciplina = \"Engenharia de Dados\"\n",
    "nota_final = 77\n",
    "\n",
    "if disciplina == \"Engenharia de Dados\" and nota_final >= 70:\n",
    "    print('Aprovado!')\n",
    "else:\n",
    "    print('Reprovado!')"
   ]
  },
  {
   "cell_type": "code",
   "execution_count": 29,
   "id": "9d4f4ed9",
   "metadata": {},
   "outputs": [
    {
     "name": "stdout",
     "output_type": "stream",
     "text": [
      "Reprovado!\n"
     ]
    }
   ],
   "source": [
    "disciplina = \"Engenharia de Dados\"\n",
    "nota_final = 60\n",
    "\n",
    "if disciplina == \"Engenharia de Dados\" and nota_final >= 70:\n",
    "    print('Aprovado!')\n",
    "else:\n",
    "    print('Reprovado!')"
   ]
  },
  {
   "cell_type": "code",
   "execution_count": 30,
   "id": "7aaba094",
   "metadata": {},
   "outputs": [
    {
     "name": "stdout",
     "output_type": "stream",
     "text": [
      "Você foi aprovado em Engenharia de Dados com média final 90.\n"
     ]
    }
   ],
   "source": [
    "# Usando mais de uma condição na cláusula IF\n",
    "\n",
    "disciplina = \"Engenharia de Dados\"\n",
    "nota_final = 90\n",
    "semestre = 2\n",
    "\n",
    "if disciplina == \"Engenharia de Dados\" and nota_final >= 70 and semestre != 1:\n",
    "    print(f'Você foi aprovado em {disciplina} com média final {nota_final}.')\n",
    "else:\n",
    "    print('Reprovado!')"
   ]
  }
 ],
 "metadata": {
  "kernelspec": {
   "display_name": "Python 3 (ipykernel)",
   "language": "python",
   "name": "python3"
  },
  "language_info": {
   "codemirror_mode": {
    "name": "ipython",
    "version": 3
   },
   "file_extension": ".py",
   "mimetype": "text/x-python",
   "name": "python",
   "nbconvert_exporter": "python",
   "pygments_lexer": "ipython3",
   "version": "3.9.13"
  }
 },
 "nbformat": 4,
 "nbformat_minor": 5
}
