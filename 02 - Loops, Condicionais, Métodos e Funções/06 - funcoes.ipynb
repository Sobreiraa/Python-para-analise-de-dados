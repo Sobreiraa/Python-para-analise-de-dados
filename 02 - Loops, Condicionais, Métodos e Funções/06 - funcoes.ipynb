{
 "cells": [
  {
   "cell_type": "markdown",
   "id": "527afd2d",
   "metadata": {},
   "source": [
    "### Loops, Condicionais, Métodos e Funções\n",
    "\n",
    "## Funções em linguagem Python"
   ]
  },
  {
   "cell_type": "markdown",
   "id": "334362d4",
   "metadata": {},
   "source": [
    "### Funções"
   ]
  },
  {
   "cell_type": "code",
   "execution_count": 5,
   "id": "7e39c0e3",
   "metadata": {},
   "outputs": [],
   "source": [
    "def hello():\n",
    "    print('Hello World')"
   ]
  },
  {
   "cell_type": "code",
   "execution_count": 6,
   "id": "c3a73e5e",
   "metadata": {},
   "outputs": [
    {
     "name": "stdout",
     "output_type": "stream",
     "text": [
      "Hello World\n"
     ]
    }
   ],
   "source": [
    "hello()"
   ]
  },
  {
   "cell_type": "code",
   "execution_count": 2,
   "id": "c39eea8b",
   "metadata": {},
   "outputs": [
    {
     "name": "stdout",
     "output_type": "stream",
     "text": [
      "Mensagem qualquer\n"
     ]
    }
   ],
   "source": [
    "# Imprimindo uma mensagem \n",
    "print('Mensagem qualquer')"
   ]
  },
  {
   "cell_type": "code",
   "execution_count": 3,
   "id": "271abbac",
   "metadata": {},
   "outputs": [],
   "source": [
    "def mensagem(msg):\n",
    "    print(msg)"
   ]
  },
  {
   "cell_type": "code",
   "execution_count": 4,
   "id": "27da4484",
   "metadata": {},
   "outputs": [
    {
     "name": "stdout",
     "output_type": "stream",
     "text": [
      "Imprimindo uma mensagem.\n",
      "Imprimindo uma segunda mensagem.\n"
     ]
    }
   ],
   "source": [
    "mensagem('Imprimindo uma mensagem.')\n",
    "mensagem('Imprimindo uma segunda mensagem.')"
   ]
  },
  {
   "cell_type": "code",
   "execution_count": 8,
   "id": "70c5a806",
   "metadata": {},
   "outputs": [],
   "source": [
    "# Função para somar números\n",
    "def soma(primeiro_numero, segundo_numero):\n",
    "    soma = 0\n",
    "    print(f'O primeiro número é: {primeiro_numero}')\n",
    "    print(f'O segundo número é: {segundo_numero}')\n",
    "    soma = primeiro_numero + segundo_numero\n",
    "    print(f'Resultado: {soma}')\n",
    "    "
   ]
  },
  {
   "cell_type": "code",
   "execution_count": 9,
   "id": "27a08cca",
   "metadata": {},
   "outputs": [
    {
     "name": "stdout",
     "output_type": "stream",
     "text": [
      "O primeiro número é: 4\n",
      "O segundo número é: 8\n",
      "Resultado: 12\n"
     ]
    }
   ],
   "source": [
    "# Chamando a função\n",
    "soma(4, 8)"
   ]
  },
  {
   "cell_type": "code",
   "execution_count": 10,
   "id": "2f685490",
   "metadata": {},
   "outputs": [
    {
     "name": "stdout",
     "output_type": "stream",
     "text": [
      "O primeiro número é: 115\n",
      "O segundo número é: 65\n",
      "Resultado: 180\n"
     ]
    }
   ],
   "source": [
    "# Chamando a função novamente\n",
    "soma(115, 65)"
   ]
  },
  {
   "cell_type": "code",
   "execution_count": 17,
   "id": "3bfc3a3f",
   "metadata": {},
   "outputs": [],
   "source": [
    "# Função com número de variável de argumentos\n",
    "def print_var_info(arg1, *vartuple):\n",
    "    # Imprimindo o valor do primeiro argumento\n",
    "    print(f'O argumento passado foi {arg1}')\n",
    "    \n",
    "    # Imprimindo o valor dos outros argumentos\n",
    "    for item in vartuple:\n",
    "        print(f'O argumento passado foi: {item}')\n",
    "    return;"
   ]
  },
  {
   "cell_type": "code",
   "execution_count": 18,
   "id": "33e54e50",
   "metadata": {},
   "outputs": [
    {
     "name": "stdout",
     "output_type": "stream",
     "text": [
      "O argumento passado foi 1\n"
     ]
    }
   ],
   "source": [
    "print_var_info(1)"
   ]
  },
  {
   "cell_type": "code",
   "execution_count": 19,
   "id": "ef3043f1",
   "metadata": {},
   "outputs": [
    {
     "name": "stdout",
     "output_type": "stream",
     "text": [
      "O argumento passado foi Morango\n",
      "O argumento passado foi: Uva\n"
     ]
    }
   ],
   "source": [
    "print_var_info('Morango', 'Uva')"
   ]
  },
  {
   "cell_type": "code",
   "execution_count": 20,
   "id": "96f7b39d",
   "metadata": {},
   "outputs": [
    {
     "name": "stdout",
     "output_type": "stream",
     "text": [
      "O argumento passado foi 1\n",
      "O argumento passado foi: Morango\n",
      "O argumento passado foi: Uva\n"
     ]
    }
   ],
   "source": [
    "print_var_info(1, 'Morango', 'Uva')"
   ]
  }
 ],
 "metadata": {
  "kernelspec": {
   "display_name": "Python 3 (ipykernel)",
   "language": "python",
   "name": "python3"
  },
  "language_info": {
   "codemirror_mode": {
    "name": "ipython",
    "version": 3
   },
   "file_extension": ".py",
   "mimetype": "text/x-python",
   "name": "python",
   "nbconvert_exporter": "python",
   "pygments_lexer": "ipython3",
   "version": "3.9.13"
  }
 },
 "nbformat": 4,
 "nbformat_minor": 5
}
