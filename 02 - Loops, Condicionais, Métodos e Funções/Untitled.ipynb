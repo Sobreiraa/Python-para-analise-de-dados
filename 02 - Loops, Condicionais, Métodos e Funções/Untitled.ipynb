{
 "cells": [
  {
   "cell_type": "markdown",
   "id": "cb76be50",
   "metadata": {},
   "source": [
    "### Tratamento de arquivos, Módulos, Pacotes e Funções Built-in\n",
    "\n",
    "## Manipulação de Arquivos"
   ]
  },
  {
   "cell_type": "markdown",
   "id": "1333c725",
   "metadata": {},
   "source": [
    "### Lendo Arquivos"
   ]
  },
  {
   "cell_type": "code",
   "execution_count": 3,
   "id": "b599a141",
   "metadata": {},
   "outputs": [
    {
     "ename": "SyntaxError",
     "evalue": "(unicode error) 'unicodeescape' codec can't decode bytes in position 2-3: truncated \\UXXXXXXXX escape (860920236.py, line 2)",
     "output_type": "error",
     "traceback": [
      "\u001b[1;36m  File \u001b[1;32m\"C:\\Users\\Estudos\\AppData\\Local\\Temp\\ipykernel_2364\\860920236.py\"\u001b[1;36m, line \u001b[1;32m2\u001b[0m\n\u001b[1;33m    arq1 = open(\"C:\\Users\\Estudos\\Desktop\\DATA ENGINEER\\01 - Python\\Python-para-analise-de-dados\\03 - Tratamento de arquivos, Módulos, Pacotes e Funções Built-in\\Arquivosarquivo1.txt\", \"r\") # r = read\u001b[0m\n\u001b[1;37m                                                                                                                                                                                       ^\u001b[0m\n\u001b[1;31mSyntaxError\u001b[0m\u001b[1;31m:\u001b[0m (unicode error) 'unicodeescape' codec can't decode bytes in position 2-3: truncated \\UXXXXXXXX escape\n"
     ]
    }
   ],
   "source": [
    "# Abrindo o arquivo para LEITURA\n",
    "arq1 = open(\"C:\\Users\\Estudos\\Desktop\\DATA ENGINEER\\01 - Python\\Python-para-analise-de-dados\\03 - Tratamento de arquivos, Módulos, Pacotes e Funções Built-in\\Arquivosarquivo1.txt\", \"r\") # r = read"
   ]
  },
  {
   "cell_type": "code",
   "execution_count": null,
   "id": "ffb7c863",
   "metadata": {},
   "outputs": [],
   "source": []
  }
 ],
 "metadata": {
  "kernelspec": {
   "display_name": "Python 3 (ipykernel)",
   "language": "python",
   "name": "python3"
  },
  "language_info": {
   "codemirror_mode": {
    "name": "ipython",
    "version": 3
   },
   "file_extension": ".py",
   "mimetype": "text/x-python",
   "name": "python",
   "nbconvert_exporter": "python",
   "pygments_lexer": "ipython3",
   "version": "3.9.13"
  }
 },
 "nbformat": 4,
 "nbformat_minor": 5
}
